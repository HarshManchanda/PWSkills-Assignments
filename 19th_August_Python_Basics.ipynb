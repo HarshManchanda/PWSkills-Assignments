{
 "cells": [
  {
   "cell_type": "markdown",
   "id": "334d4485-0a57-43cc-827b-63886f13ba79",
   "metadata": {},
   "source": [
    "<h2> Python Basic Variable </h2>"
   ]
  },
  {
   "cell_type": "code",
   "execution_count": 2,
   "id": "5d6619c6-a9b2-49a3-9f59-b5e95cc22023",
   "metadata": {},
   "outputs": [
    {
     "name": "stdout",
     "output_type": "stream",
     "text": [
      "x =  10 , y =  4\n"
     ]
    }
   ],
   "source": [
    "'''Q1. Declare two variables, `x` and `y`, and assign them integer values.\n",
    " Swap the values of these variables without using any temporary variable.'''\n",
    "\n",
    "x = 4\n",
    "y = 10\n",
    "\n",
    "x = x+y\n",
    "y = x-y\n",
    "x = x-y\n",
    "\n",
    "print(\"x = \",x,\", y = \",y)"
   ]
  },
  {
   "cell_type": "code",
   "execution_count": 12,
   "id": "8bafa545-edf9-4fe2-8373-33259ba41b7f",
   "metadata": {},
   "outputs": [
    {
     "name": "stdin",
     "output_type": "stream",
     "text": [
      "Length of Rectangle :  12\n",
      "Width of Rectangle :  6\n"
     ]
    },
    {
     "name": "stdout",
     "output_type": "stream",
     "text": [
      "Area of rectangle :  48\n"
     ]
    }
   ],
   "source": [
    "'''Create a program that calculates the area of a rectangle. \n",
    "Take the length and width as inputs from the user and store them in variables. Calculate and display the area. '''\n",
    "\n",
    "l = int(input(\"Length of Rectangle : \"))\n",
    "w = int(input(\"Width of Rectangle : \"))\n",
    "\n",
    "ar = l*b\n",
    "\n",
    "print(\"Area of rectangle : \",ar)"
   ]
  },
  {
   "cell_type": "code",
   "execution_count": 16,
   "id": "ca809b8b-fcd5-4813-a455-2473a713c8e8",
   "metadata": {},
   "outputs": [
    {
     "name": "stdin",
     "output_type": "stream",
     "text": [
      "Enter temperature (in °C) :  21.5\n"
     ]
    },
    {
     "name": "stdout",
     "output_type": "stream",
     "text": [
      "Temperature in °F :  70.7\n"
     ]
    }
   ],
   "source": [
    "'''Write a Python program that converts temperatures from Celsius to Fahrenheit. \n",
    "Take the temperature in Celsius as input, store it in a variable, convert it to Fahrenheit, and display the result. '''\n",
    "\n",
    "cel = float(input(\"Enter temperature (in °C) : \"))\n",
    "fr = (cel*9/5)+32\n",
    "\n",
    "print(\"Temperature in °F : \",fr)"
   ]
  },
  {
   "cell_type": "markdown",
   "id": "86f29d02-431b-40dc-8a39-1f482c930ded",
   "metadata": {},
   "source": [
    "<h2> String Based Questions </h2>"
   ]
  },
  {
   "cell_type": "code",
   "execution_count": 19,
   "id": "5ed3b524-3398-4a4e-8762-573fbafeeaec",
   "metadata": {},
   "outputs": [
    {
     "name": "stdin",
     "output_type": "stream",
     "text": [
      "Enter any string :  India\n"
     ]
    },
    {
     "name": "stdout",
     "output_type": "stream",
     "text": [
      "Length of string 'India' is equals to 5\n"
     ]
    }
   ],
   "source": [
    "'''Write a Python program that takes a string as input and prints the length of the string. '''\n",
    "\n",
    "s1 = input(\"Enter any string : \")\n",
    "print(\"Length of string '\"+s1+\"' is equals to \"+str(len(s1)))"
   ]
  },
  {
   "cell_type": "code",
   "execution_count": 37,
   "id": "b2afc313-33ea-4527-aa4c-7d7fe21b3392",
   "metadata": {},
   "outputs": [
    {
     "name": "stdin",
     "output_type": "stream",
     "text": [
      "Enter any string :  Hello world\n"
     ]
    },
    {
     "name": "stdout",
     "output_type": "stream",
     "text": [
      "Number of vowels in string 'Hello world' is 3\n"
     ]
    }
   ],
   "source": [
    "''' Create a program that takes a sentence from the user and counts the number of vowels (a, e, i, o, u) in the string.'''\n",
    "\n",
    "def count_vow(s1):\n",
    "    count = 0\n",
    "    for i in s1:\n",
    "        if i == \"a\" or i == \"e\" or i == \"i\" or i == \"o\" or i == \"u\":\n",
    "            count = count + 1\n",
    "    return count\n",
    "\n",
    "s1 = input(\"Enter any string : \")\n",
    "l = count_vow(s1)\n",
    "print(\"Number of vowels in string '\"+s1+\"' is \"+str(l))"
   ]
  },
  {
   "cell_type": "code",
   "execution_count": 41,
   "id": "e3b84e7a-ad6a-492d-ae6a-e74bd3ff1584",
   "metadata": {},
   "outputs": [
    {
     "name": "stdout",
     "output_type": "stream",
     "text": [
      "Given string : Coding\n",
      "Reversed string : gnidoC\n"
     ]
    }
   ],
   "source": [
    "'''Given a string, reverse the order of characters using string slicing and print the reversed string. '''\n",
    "s1 = \"Coding\"\n",
    "print(\"Given string : \"+s1)\n",
    "print(\"Reversed string : \"+s1[::-1])"
   ]
  },
  {
   "cell_type": "code",
   "execution_count": 46,
   "id": "ee94b743-0a49-4fca-ab2d-b438632c522e",
   "metadata": {},
   "outputs": [
    {
     "name": "stdin",
     "output_type": "stream",
     "text": [
      "Enter any string :  Level\n"
     ]
    },
    {
     "name": "stdout",
     "output_type": "stream",
     "text": [
      "Given string : Level\n",
      "Reversed string : leveL\n",
      "Yes, the string is pallindrome\n"
     ]
    }
   ],
   "source": [
    "'''Write a program that takes a string as input and checks if it is a palindrome (reads the same forwards and backwards).'''\n",
    "s1 = input(\"Enter any string : \")\n",
    "print(\"Given string : \"+s1)\n",
    "print(\"Reversed string : \"+s1[::-1])\n",
    "\n",
    "# since it was not mentioned to consider lower or upper case of character\n",
    "if s1.lower() == s1[::-1].lower():\n",
    "    print(\"Yes, the string is pallindrome\")\n",
    "else:\n",
    "    print(\"No, the string is not pallindrome\")"
   ]
  },
  {
   "cell_type": "code",
   "execution_count": 49,
   "id": "78eaf2f8-f01d-4e9a-9572-1957555f2ece",
   "metadata": {},
   "outputs": [
    {
     "name": "stdin",
     "output_type": "stream",
     "text": [
      "Enter any string :  H a rs h\n"
     ]
    },
    {
     "name": "stdout",
     "output_type": "stream",
     "text": [
      "Given string : H a rs h\n",
      "String after removing spaces : Harsh\n"
     ]
    }
   ],
   "source": [
    "''' Create a program that takes a string as input and removes all the spaces from it. Print the modified string without spaces.'''\n",
    "s1 = input(\"Enter any string : \")\n",
    "print(\"Given string : \"+s1)\n",
    "\n",
    "new_s1 = s1.replace(\" \",\"\")\n",
    "\n",
    "print(\"String after removing spaces : \"+new_s1)"
   ]
  }
 ],
 "metadata": {
  "kernelspec": {
   "display_name": "Python 3 (ipykernel)",
   "language": "python",
   "name": "python3"
  },
  "language_info": {
   "codemirror_mode": {
    "name": "ipython",
    "version": 3
   },
   "file_extension": ".py",
   "mimetype": "text/x-python",
   "name": "python",
   "nbconvert_exporter": "python",
   "pygments_lexer": "ipython3",
   "version": "3.10.8"
  }
 },
 "nbformat": 4,
 "nbformat_minor": 5
}
