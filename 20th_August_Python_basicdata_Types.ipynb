{
 "cells": [
  {
   "cell_type": "markdown",
   "metadata": {},
   "source": [
    "<h2><b>String Based Assignment Problem<b></h2>"
   ]
  },
  {
   "cell_type": "code",
   "execution_count": 30,
   "metadata": {},
   "outputs": [
    {
     "name": "stdout",
     "output_type": "stream",
     "text": [
      "String : Python Data Types\n",
      "String after reverse: sepyT ataD nohtyP\n"
     ]
    }
   ],
   "source": [
    "#Q1. Write a program to reverse a string\n",
    "s1 = \"Python Data Types\"\n",
    "print(\"String : \"+s1)\n",
    "revs1 = s1[::-1]\n",
    "print(\"String after reverse: \"+revs1)"
   ]
  },
  {
   "cell_type": "code",
   "execution_count": 31,
   "metadata": {},
   "outputs": [
    {
     "name": "stdout",
     "output_type": "stream",
     "text": [
      "String: level is a pallindrome\n"
     ]
    }
   ],
   "source": [
    "#Q2. Check if a string is a palindrome\n",
    "s1 = input()\n",
    "if s1 == s1[::-1]:\n",
    "    print(\"String: \"+s1+\" is a pallindrome\")\n",
    "else:\n",
    "    print(\"String: \"+s1+\" is not a pallindrome\")"
   ]
  },
  {
   "cell_type": "code",
   "execution_count": 32,
   "metadata": {},
   "outputs": [
    {
     "name": "stdout",
     "output_type": "stream",
     "text": [
      "Given String: hello world\n",
      "String After: HELLO WORLD\n"
     ]
    }
   ],
   "source": [
    "#Q3. Convert a string to uppercase\n",
    "s1 = \"hello world\"\n",
    "print(\"Given String: \"+s1)\n",
    "s1 = s1.upper()\n",
    "print(\"String After: \"+s1)"
   ]
  },
  {
   "cell_type": "code",
   "execution_count": 33,
   "metadata": {},
   "outputs": [
    {
     "name": "stdout",
     "output_type": "stream",
     "text": [
      "Given String: HELLO WORLD\n",
      "String After: hello world\n"
     ]
    }
   ],
   "source": [
    "#Q4. Convert a string to lowercase\n",
    "s1 = \"HELLO WORLD\"\n",
    "print(\"Given String: \"+s1)\n",
    "s1 = s1.lower()\n",
    "print(\"String After: \"+s1)"
   ]
  },
  {
   "cell_type": "code",
   "execution_count": 34,
   "metadata": {},
   "outputs": [
    {
     "name": "stdout",
     "output_type": "stream",
     "text": [
      "Given String: I Am the Ultimate Python Developer\n",
      "Number of vowels:  12\n"
     ]
    }
   ],
   "source": [
    "#Q5. Count the number of vowels in a string\n",
    "def countvow(str):\n",
    "    count = 0\n",
    "    for i in str:\n",
    "        if i.lower() in ('a','e','i','o','u'):\n",
    "            count+=1\n",
    "    return count\n",
    "\n",
    "s1 = input()\n",
    "print(\"Given String: \"+s1)\n",
    "print(\"Number of vowels: \",countvow(s1))"
   ]
  },
  {
   "cell_type": "code",
   "execution_count": 35,
   "metadata": {},
   "outputs": [
    {
     "name": "stdout",
     "output_type": "stream",
     "text": [
      "Given String: I Am the Ultimate Python Developer\n",
      "Number of consonants:  17\n"
     ]
    }
   ],
   "source": [
    "#Q6. Count the number of consonants in a string\n",
    "def countcons(str):\n",
    "    count = 0\n",
    "    for i in str:\n",
    "        if i.lower() not in ('a','e','i','o','u') and ord(i.lower())>=97 and ord(i.lower())<=122:\n",
    "            count+=1\n",
    "    return count\n",
    "\n",
    "s1 = input()\n",
    "print(\"Given String: \"+s1)\n",
    "print(\"Number of consonants: \",countcons(s1))"
   ]
  },
  {
   "cell_type": "code",
   "execution_count": 40,
   "metadata": {},
   "outputs": [
    {
     "name": "stdout",
     "output_type": "stream",
     "text": [
      "Given String:    Hel lo Wor ld   \n",
      "String after: HelloWorld\n"
     ]
    }
   ],
   "source": [
    "#Q7. Remove all whitespaces from a string\n",
    "s1 = \"   Hel lo Wor ld   \"\n",
    "print(\"Given String: \"+s1)\n",
    "s1 = s1.replace(\" \",\"\")\n",
    "print(\"String after: \"+s1)"
   ]
  },
  {
   "cell_type": "code",
   "execution_count": 6,
   "metadata": {},
   "outputs": [
    {
     "name": "stdout",
     "output_type": "stream",
     "text": [
      "Length of String: 24\n"
     ]
    }
   ],
   "source": [
    "# Q8. Find the length of a string without using the `len()` function\n",
    "s1 = \"I am a software develope\"\n",
    "def strlen(str1):\n",
    "    counter = 0\n",
    "    for i in str1:\n",
    "        counter+=1\n",
    "    return counter\n",
    "\n",
    "print(\"Length of String:\",strlen(s1))"
   ]
  },
  {
   "cell_type": "code",
   "execution_count": 30,
   "metadata": {},
   "outputs": [
    {
     "name": "stdout",
     "output_type": "stream",
     "text": [
      "Given String s1: Hello World, I am Python\n",
      "Word: World is present in string s1\n"
     ]
    }
   ],
   "source": [
    "# Q9. Check if a string contains a specific word.\n",
    "s1 = \"Hello World, I am Python\"\n",
    "print(\"Given String s1: \"+s1)\n",
    "# s_lst = s1.lower().split()\n",
    "# print(s_lst)\n",
    "look = input(\"Enter the word you want to find: \")\n",
    "if look.lower() in s1.lower():\n",
    "    print(\"Word: \"+look+\" is present in string s1\")\n",
    "else:\n",
    "    print(\"Word: \"+look+\" is not present in string s1\")"
   ]
  },
  {
   "cell_type": "code",
   "execution_count": 36,
   "metadata": {},
   "outputs": [
    {
     "name": "stdout",
     "output_type": "stream",
     "text": [
      "Given String s1: Hello World, I am Python\n",
      "String After: Hello Earth, I am Python\n"
     ]
    }
   ],
   "source": [
    "#Q10. Replace a word in a string with another word.\n",
    "s1 = \"Hello World, I am Python\"\n",
    "print(\"Given String s1: \"+s1)\n",
    "s1 = s1.replace(\"World\",\"Earth\")\n",
    "print(\"String After: \"+s1)"
   ]
  },
  {
   "cell_type": "code",
   "execution_count": 4,
   "metadata": {},
   "outputs": [
    {
     "name": "stdout",
     "output_type": "stream",
     "text": [
      "Given String s1: Hello Python. Hello Harsh.\n",
      "Number of occurance of word 'Hello':  2\n"
     ]
    }
   ],
   "source": [
    "#Q11. Count the occurrences of a word in a string.\n",
    "s1 = \"Hello Python. Hello Harsh.\"\n",
    "print(\"Given String s1: \"+s1)\n",
    "print(\"Number of occurance of word 'Hello': \",s1.count(\"Hello\"))"
   ]
  },
  {
   "cell_type": "code",
   "execution_count": 12,
   "metadata": {},
   "outputs": [
    {
     "name": "stdout",
     "output_type": "stream",
     "text": [
      "Given String s1: Hi Python, Hello Harsh, Hello PWSkils.\n",
      "First occurance of word 'Hello':  11\n"
     ]
    }
   ],
   "source": [
    "# Q12. Find the first occurrence of a word in a string.\n",
    "s1 = \"Hi Python, Hello Harsh, Hello PWSkils.\"\n",
    "print(\"Given String s1: \"+s1)\n",
    "print(\"First occurance of word 'Hello': \",s1.find(\"Hello\"))"
   ]
  },
  {
   "cell_type": "code",
   "execution_count": 13,
   "metadata": {},
   "outputs": [
    {
     "name": "stdout",
     "output_type": "stream",
     "text": [
      "Given String s1: Hi Python, Hello Harsh, Hello PWSkils.\n",
      "First occurance of word 'Hello':  24\n"
     ]
    }
   ],
   "source": [
    "# Q13. Find the last occurrence of a word in a string\n",
    "s1 = \"Hi Python, Hello Harsh, Hello PWSkils.\"\n",
    "print(\"Given String s1: \"+s1)\n",
    "print(\"First occurance of word 'Hello': \",s1.rfind(\"Hello\"))"
   ]
  },
  {
   "cell_type": "code",
   "execution_count": 16,
   "metadata": {},
   "outputs": [
    {
     "name": "stdout",
     "output_type": "stream",
     "text": [
      "Given String s1: Hello World, I am Python\n",
      "List of String:  ['Hello', 'World,', 'I', 'am', 'Python']\n"
     ]
    }
   ],
   "source": [
    "# Q14. Split a string into a list of words.\n",
    "s1 = \"Hello World, I am Python\"\n",
    "print(\"Given String s1: \"+s1)\n",
    "print(\"List of String: \",s1.split())"
   ]
  },
  {
   "cell_type": "code",
   "execution_count": 23,
   "metadata": {},
   "outputs": [
    {
     "name": "stdout",
     "output_type": "stream",
     "text": [
      "Given String s1: Hello World, I am Python\n",
      "List of String:  ['Hello', 'World,', 'I', 'am', 'Python']\n",
      "String after join:  Hello World, I am Python\n"
     ]
    }
   ],
   "source": [
    "# Q15. Join a list of words into a string.\n",
    "s1 = \"Hello World, I am Python\"\n",
    "print(\"Given String s1: \"+s1)\n",
    "sp = s1.split()\n",
    "print(\"List of String: \",sp)\n",
    "str_join = \" \".join(sp)\n",
    "print(\"String after join: \",str_join)"
   ]
  },
  {
   "cell_type": "code",
   "execution_count": 24,
   "metadata": {},
   "outputs": [
    {
     "name": "stdout",
     "output_type": "stream",
     "text": [
      "Given String s1: Hello World, I am Python\n",
      "String After:  Hello_World,_I_am_Python\n"
     ]
    }
   ],
   "source": [
    "# Q16. Convert a string where words are separated by spaces to one where words are separated by underscores.\n",
    "s1 = \"Hello World, I am Python\"\n",
    "print(\"Given String s1: \"+s1)\n",
    "print(\"String After: \",s1.replace(\" \",\"_\"))"
   ]
  },
  {
   "cell_type": "code",
   "execution_count": 26,
   "metadata": {},
   "outputs": [
    {
     "name": "stdout",
     "output_type": "stream",
     "text": [
      "Given String s1: Hello World, I am Python\n",
      "String starts with 'Hello':  True\n",
      "String starts with 'Hi':  False\n"
     ]
    }
   ],
   "source": [
    "# Q17. Check if a string starts with a specific word or phrase.\n",
    "s1 = \"Hello World, I am Python\"\n",
    "print(\"Given String s1: \"+s1)\n",
    "print(\"String starts with 'Hello': \",s1.startswith(\"Hello\"))\n",
    "print(\"String starts with 'Hi': \",s1.startswith(\"Hi\"))"
   ]
  },
  {
   "cell_type": "code",
   "execution_count": 28,
   "metadata": {},
   "outputs": [
    {
     "name": "stdout",
     "output_type": "stream",
     "text": [
      "Given String s1: Hello World, I am Python\n",
      "String ends with 'Python':  True\n",
      "String ends with 'World':  False\n"
     ]
    }
   ],
   "source": [
    "# Q18. Check if a string ends with a specific word or phrase.\n",
    "s1 = \"Hello World, I am Python\"\n",
    "print(\"Given String s1: \"+s1)\n",
    "print(\"String ends with 'Python': \",s1.endswith(\"Python\"))\n",
    "print(\"String ends with 'World': \",s1.endswith(\"World\"))\n"
   ]
  },
  {
   "cell_type": "code",
   "execution_count": 30,
   "metadata": {},
   "outputs": [
    {
     "name": "stdout",
     "output_type": "stream",
     "text": [
      "Given String s1: hello world, i am python\n",
      "String After:  Hello World, I Am Python\n"
     ]
    }
   ],
   "source": [
    "# Q19. Convert a string to title case (e.g., \"hello world\" to \"Hello World\").\n",
    "s1 = \"hello world, i am python\"\n",
    "print(\"Given String s1: \"+s1)\n",
    "print(\"String After: \",s1.title())"
   ]
  },
  {
   "cell_type": "code",
   "execution_count": 33,
   "metadata": {},
   "outputs": [
    {
     "name": "stdout",
     "output_type": "stream",
     "text": [
      "Given String s1: Hello World I am Python\n",
      "Longest word in string:  Python\n"
     ]
    }
   ],
   "source": [
    "# Q20. Find the longest word in a string.\n",
    "s1 = \"Hello World I am Python\"\n",
    "print(\"Given String s1: \"+s1)\n",
    "word_list = s1.split()\n",
    "print(\"Longest word in string: \",max(word_list,key=len))"
   ]
  },
  {
   "cell_type": "code",
   "execution_count": 39,
   "metadata": {},
   "outputs": [
    {
     "name": "stdout",
     "output_type": "stream",
     "text": [
      "Given String s1: Hello World I am Python\n",
      "Shortest word in string:  I\n"
     ]
    }
   ],
   "source": [
    "# Q21. Find the shortest word in a string.\n",
    "s1 = \"Hello World I am Python\"\n",
    "print(\"Given String s1: \"+s1)\n",
    "word_list = s1.split()\n",
    "print(\"Shortest word in string: \",min(word_list,key=len))"
   ]
  },
  {
   "cell_type": "code",
   "execution_count": 40,
   "metadata": {},
   "outputs": [
    {
     "name": "stdout",
     "output_type": "stream",
     "text": [
      "Given String s1: Hello World I am Python\n",
      "Reversed words:  Python am I World Hello\n"
     ]
    }
   ],
   "source": [
    "# Q22. Reverse the order of words in a string.\n",
    "s1 = \"Hello World I am Python\"\n",
    "print(\"Given String s1: \"+s1)\n",
    "word_list = s1.split()\n",
    "rev_s1 = \" \".join(reversed(word_list))\n",
    "print(\"Reversed words: \",rev_s1)"
   ]
  },
  {
   "cell_type": "code",
   "execution_count": 49,
   "metadata": {},
   "outputs": [
    {
     "name": "stdout",
     "output_type": "stream",
     "text": [
      "Given String s1: Hello World I am Python\n",
      "String: 'Hello World I am Python' is not alphanumeric\n",
      "Given String s2: Hello12\n",
      "String: 'Hello12' is alphanumeric\n"
     ]
    }
   ],
   "source": [
    "# Q23. Check if a string is alphanumeric.\n",
    "def checkisalfanum(s):\n",
    "    return s.isalnum()\n",
    "\n",
    "s1 = \"Hello World I am Python\"\n",
    "print(\"Given String s1: \"+s1)\n",
    "\n",
    "if checkisalfanum(s1):\n",
    "    print(f\"String: '{s1}' is alphanumeric\")\n",
    "else:\n",
    "    print(f\"String: '{s1}' is not alphanumeric\")\n",
    "\n",
    "s2 = \"Hello12\"\n",
    "print(\"Given String s2: \"+s2)\n",
    "if checkisalfanum(s2):\n",
    "    print(f\"String: '{s2}' is alphanumeric\")\n",
    "else:\n",
    "    print(f\"String: '{s2}' is not alphanumeric\")"
   ]
  },
  {
   "cell_type": "code",
   "execution_count": 52,
   "metadata": {},
   "outputs": [
    {
     "name": "stdout",
     "output_type": "stream",
     "text": [
      "Given String s1: I have 6 Apples and 4 Mangos\n",
      "Digits in String s1:  [6, 4]\n"
     ]
    }
   ],
   "source": [
    "# Q24. Extract all digits from a string.\n",
    "s1 = \"I have 6 Apples and 4 Mangos\"\n",
    "print(\"Given String s1: \"+s1)\n",
    "num = []\n",
    "for i in s1:\n",
    "    if i.isdigit():\n",
    "        num.append(int(i))\n",
    "\n",
    "print(\"Digits in String s1: \",num)\n"
   ]
  },
  {
   "cell_type": "code",
   "execution_count": 55,
   "metadata": {},
   "outputs": [
    {
     "name": "stdout",
     "output_type": "stream",
     "text": [
      "Given String s1: I have 6 Apples and 4 Mangos\n",
      "Alphabests in string s1:  ['I', 'h', 'a', 'v', 'e', 'A', 'p', 'p', 'l', 'e', 's', 'a', 'n', 'd', 'M', 'a', 'n', 'g', 'o', 's']\n"
     ]
    }
   ],
   "source": [
    "# Q25. Extract all alphabets from a string.\n",
    "s1 = \"I have 6 Apples and 4 Mangos\"\n",
    "print(\"Given String s1: \"+s1)\n",
    "alphabets = []\n",
    "for i in s1:\n",
    "    if i.isalpha():\n",
    "        alphabets.append(i)\n",
    "\n",
    "print(\"Alphabests in string s1: \",alphabets)\n"
   ]
  },
  {
   "cell_type": "code",
   "execution_count": 59,
   "metadata": {},
   "outputs": [
    {
     "name": "stdout",
     "output_type": "stream",
     "text": [
      "Given String s1:  Hello Python lets Code\n",
      "Number of Upper case letter in string s1:  3\n"
     ]
    }
   ],
   "source": [
    "# Q26. Count the number of uppercase letters in a string.\n",
    "s1 = \"Hello Python lets Code\"\n",
    "print(\"Given String s1: \",s1)\n",
    "\n",
    "count = 0\n",
    "for i in s1:\n",
    "    if i.isupper():\n",
    "        count+=1\n",
    "print(\"Number of Upper case letter in string s1: \",count)\n"
   ]
  },
  {
   "cell_type": "code",
   "execution_count": 61,
   "metadata": {},
   "outputs": [
    {
     "name": "stdout",
     "output_type": "stream",
     "text": [
      "Given String s1:  Hello Python lets Code\n",
      "Number of lower case letter in string s1:  16\n"
     ]
    }
   ],
   "source": [
    "# Q27. Count the number of lowercase letters in a string.\n",
    "s1 = \"Hello Python lets Code\"\n",
    "print(\"Given String s1: \",s1)\n",
    "\n",
    "count = 0\n",
    "for i in s1:\n",
    "    if i.islower():\n",
    "        count+=1\n",
    "print(\"Number of lower case letter in string s1: \",count)\n"
   ]
  },
  {
   "cell_type": "code",
   "execution_count": 63,
   "metadata": {},
   "outputs": [
    {
     "name": "stdout",
     "output_type": "stream",
     "text": [
      "Given String s1:  Hello World I am Python\n",
      "String after swap case:  hELLO wORLD i AM pYTHON\n"
     ]
    }
   ],
   "source": [
    "# Q28. Swap the case of each character in a string.\n",
    "s1 = \"Hello World I am Python\"\n",
    "print(\"Given String s1: \",s1)\n",
    "print(\"String after swap case: \",s1.swapcase())\n"
   ]
  },
  {
   "cell_type": "code",
   "execution_count": 66,
   "metadata": {},
   "outputs": [
    {
     "name": "stdout",
     "output_type": "stream",
     "text": [
      "Given String s1:  Hello World I am Python\n",
      "Word to be removed:  World\n",
      "String after:  Hello  I am Python\n"
     ]
    }
   ],
   "source": [
    "# Q29. Remove a specific word from a string.\n",
    "s1 = \"Hello World I am Python\"\n",
    "print(\"Given String s1: \",s1)\n",
    "inp = input()\n",
    "print(\"Word to be removed: \",inp)\n",
    "s = s1.replace(inp,\"\")\n",
    "print(\"String after: \",s)"
   ]
  },
  {
   "cell_type": "code",
   "execution_count": 68,
   "metadata": {},
   "outputs": [
    {
     "name": "stdout",
     "output_type": "stream",
     "text": [
      "Given Email:  harsh@gmail.com\n",
      "Email: harsh@gmail.com is valid\n"
     ]
    }
   ],
   "source": [
    "# Q30. Check if a string is a valid email address.\n",
    "import re\n",
    "def is_valid_email(s):\n",
    "    pattern = r'^[a-zA-Z0-9._%+-]+@[a-zA-Z0-9.-]+\\.[a-zA-Z]{2,}$'\n",
    "    return re.match(pattern, s) is not None\n",
    "\n",
    "s1 = input()\n",
    "print(\"Given Email: \",s1)\n",
    "\n",
    "if is_valid_email(s1):\n",
    "    print(\"Email: \"+s1+\" is valid\")\n",
    "else:\n",
    "    print(f\"Email: {s1} is not valid\")\n"
   ]
  },
  {
   "cell_type": "code",
   "execution_count": 26,
   "metadata": {},
   "outputs": [
    {
     "name": "stdout",
     "output_type": "stream",
     "text": [
      "Given String s1:  harsh@gmail.com\n",
      "Username:  harsh\n"
     ]
    }
   ],
   "source": [
    "# Q31. Extract the username from an email address string.\n",
    "s1 = \"harsh@gmail.com\"\n",
    "print(\"Given String s1: \",s1)\n",
    "user_name = s1.split('@')[0]\n",
    "print(\"Username: \",user_name)"
   ]
  },
  {
   "cell_type": "code",
   "execution_count": 27,
   "metadata": {},
   "outputs": [
    {
     "name": "stdout",
     "output_type": "stream",
     "text": [
      "Given String s1:  harsh@gmail.com\n",
      "Domain name:  gmail.com\n"
     ]
    }
   ],
   "source": [
    "# Q32. Extract the domain name from an email address string.\n",
    "s1 = \"harsh@gmail.com\"\n",
    "print(\"Given String s1: \",s1)\n",
    "domain_name = s1.split('@')[1]\n",
    "print(\"Domain name: \",domain_name)"
   ]
  },
  {
   "cell_type": "code",
   "execution_count": 28,
   "metadata": {},
   "outputs": [
    {
     "name": "stdout",
     "output_type": "stream",
     "text": [
      "Given String:  Hello    World, this  is     python\n",
      "String After:  Hello World, this is python\n"
     ]
    }
   ],
   "source": [
    "# Q33. Replace multiple spaces in a string with a single space.\n",
    "s1 = \"Hello    World, this  is     python\"\n",
    "print(\"Given String: \",s1)\n",
    "rep_s = \" \".join(s1.split())\n",
    "print(\"String After: \",rep_s)"
   ]
  },
  {
   "cell_type": "code",
   "execution_count": 42,
   "metadata": {},
   "outputs": [
    {
     "name": "stdout",
     "output_type": "stream",
     "text": [
      "Urls:  ['https://www.youtube.com', 'https://www.google.com']\n"
     ]
    }
   ],
   "source": [
    "# Q34. Check if a string is a valid URL.\n",
    "import re\n",
    " \n",
    " \n",
    "def Find(string):\n",
    "    regex = r\"(?i)\\b((?:https?://|www\\d{0,3}[.]|[a-z0-9.\\-]+[.][a-z]{2,4}/)(?:[^\\s()<>]+|\\(([^\\s()<>]+|(\\([^\\s()<>]+\\)))*\\))+(?:\\(([^\\s()<>]+|(\\([^\\s()<>]+\\)))*\\)|[^\\s`!()\\[\\]{};:'\\\".,<>?«»“”‘’]))\"\n",
    "    url = re.findall(regex, string)\n",
    "    return [x[0] for x in url]\n",
    " \n",
    " \n",
    "# Driver Code\n",
    "string = 'youtube: https://www.youtube.com google: https://www.google.com'\n",
    "print(\"Urls: \", Find(string))"
   ]
  },
  {
   "cell_type": "code",
   "execution_count": 30,
   "metadata": {},
   "outputs": [
    {
     "name": "stdout",
     "output_type": "stream",
     "text": [
      "Given String s1:  http://www.google.com\n",
      "Given String s2:  https://www.youtube.com\n",
      "Protocol form link s1:  http\n",
      "Protocol form link s2:  https\n"
     ]
    }
   ],
   "source": [
    "# Q35. Extract the protocol (http or https) from a URL string.\n",
    "s1 = \"http://www.google.com\"\n",
    "s2 = \"https://www.youtube.com\"\n",
    "\n",
    "print(\"Given String s1: \",s1)\n",
    "print(\"Given String s2: \",s2)\n",
    "\n",
    "print(\"Protocol form link s1: \",s1.split(\":\")[0])\n",
    "print(\"Protocol form link s2: \",s2.split(\":\")[0])"
   ]
  },
  {
   "cell_type": "code",
   "execution_count": 47,
   "metadata": {},
   "outputs": [
    {
     "name": "stdout",
     "output_type": "stream",
     "text": [
      "Frequency of character c :  2\n",
      "Frequency of character r :  1\n",
      "Frequency of character i :  1\n",
      "Frequency of character c :  2\n",
      "Frequency of character k :  1\n",
      "Frequency of character e :  1\n",
      "Frequency of character t :  1\n"
     ]
    }
   ],
   "source": [
    "# Q36. Find the frequency of each character in a string.\n",
    "s1 = \"cricket\"\n",
    "\n",
    "for i in s1:\n",
    "    print(\"Frequency of character \"+i+\" : \",s1.count(i))"
   ]
  },
  {
   "cell_type": "code",
   "execution_count": 32,
   "metadata": {},
   "outputs": [
    {
     "name": "stdout",
     "output_type": "stream",
     "text": [
      "Given String s1:  Hello World! Python, Java ? by pw.\n",
      "String After:  Hello World Python Java  by pw\n"
     ]
    }
   ],
   "source": [
    "# Q37. Remove all punctuation from a string.\n",
    "import string\n",
    "\n",
    "s1 = \"Hello World! Python, Java ? by pw.\"\n",
    "print(\"Given String s1: \",s1)\n",
    "\n",
    "for punc in string.punctuation:\n",
    "    s1 = s1.replace(punc,\"\")\n",
    "\n",
    "print(\"String After: \",s1)"
   ]
  },
  {
   "cell_type": "code",
   "execution_count": 33,
   "metadata": {},
   "outputs": [
    {
     "name": "stdout",
     "output_type": "stream",
     "text": [
      "Sting 123 contains digits\n",
      "String 'Hello World! Python' doesnot contains digits\n"
     ]
    }
   ],
   "source": [
    "# Q38. Check if a string contains only digits.\n",
    "def isnum(st):\n",
    "    if st.isdigit():\n",
    "        print(\"Sting \"+st+\" contains digits\")\n",
    "    else:\n",
    "        print(\"String \"+st+\" doesnot contains digits\")\n",
    "\n",
    "s1 = \"123\"\n",
    "s2 = \"'Hello World! Python'\"\n",
    "\n",
    "isnum(s1)\n",
    "isnum(s2)"
   ]
  },
  {
   "cell_type": "code",
   "execution_count": 34,
   "metadata": {},
   "outputs": [
    {
     "name": "stdout",
     "output_type": "stream",
     "text": [
      "String Hello123 doesnot contains only alphabets\n",
      "Sting HelloPython contains only alphabets\n"
     ]
    }
   ],
   "source": [
    "# Q39. Check if a string contains only alphabets.\n",
    "def isalp(st):\n",
    "    if st.isalpha():\n",
    "        print(\"Sting \"+st+\" contains only alphabets\")\n",
    "    else:\n",
    "        print(\"String \"+st+\" doesnot contains only alphabets\")\n",
    "\n",
    "s1 = \"Hello123\"\n",
    "s2 = \"HelloPython\"\n",
    "\n",
    "isalp(s1)\n",
    "isalp(s2)"
   ]
  },
  {
   "cell_type": "code",
   "execution_count": 35,
   "metadata": {},
   "outputs": [
    {
     "name": "stdout",
     "output_type": "stream",
     "text": [
      "Given String:  Hello World Python\n",
      "List of Characters in s1:  ['H', 'e', 'l', 'l', 'o', ' ', 'W', 'o', 'r', 'l', 'd', ' ', 'P', 'y', 't', 'h', 'o', 'n']\n"
     ]
    }
   ],
   "source": [
    "# Q40. Convert a string to a list of characters.\n",
    "s1 = \"Hello World Python\"\n",
    "print(\"Given String: \",s1)\n",
    "lst = []\n",
    "lst.extend(s1)\n",
    "print(\"List of Characters in s1: \",lst)"
   ]
  },
  {
   "cell_type": "code",
   "execution_count": 36,
   "metadata": {},
   "outputs": [
    {
     "name": "stdout",
     "output_type": "stream",
     "text": [
      "Sting s1:act and s2:cat are Anagrams\n"
     ]
    }
   ],
   "source": [
    "# Q41. Check if two strings are anagrams.\n",
    "s1 = \"act\"\n",
    "s2 = \"cat\"\n",
    "\n",
    "if sorted(s1) == sorted(s2):\n",
    "    print(f\"Sting s1:{s1} and s2:{s2} are Anagrams\")\n",
    "else:\n",
    "    print(f\"Sting s1:{s1} and s2:{s2} are not Anagrams\")"
   ]
  },
  {
   "cell_type": "code",
   "execution_count": 37,
   "metadata": {},
   "outputs": [
    {
     "name": "stdout",
     "output_type": "stream",
     "text": [
      "Text  : CaT\n",
      "Shift : 4\n",
      "Cipher: GeX\n"
     ]
    }
   ],
   "source": [
    "# Q42. Encode a string using a Caesar cipher.\n",
    "def ceaser_cipher(str1,n):\n",
    "    res = \"\"\n",
    "    for i in range(len(str1)):\n",
    "        char = str1[i]\n",
    "        if (char.isupper()):\n",
    "            res += chr((ord(char) + n-65) % 26 + 65)\n",
    "\n",
    "        else:\n",
    "            res += chr((ord(char) + n-97) % 26 + 97)\n",
    " \n",
    "    return res\n",
    "\n",
    "\n",
    "#check the above function\n",
    "s1 = \"CaT\"\n",
    "n = 4\n",
    "print (\"Text  : \" + s1)\n",
    "print (\"Shift : \" + str(n))\n",
    "print (\"Cipher: \" + ceaser_cipher(s1,n))"
   ]
  },
  {
   "cell_type": "code",
   "execution_count": 38,
   "metadata": {},
   "outputs": [
    {
     "name": "stdout",
     "output_type": "stream",
     "text": [
      "Text  : GeX\n",
      "Shift : 4\n",
      "Cipher: CaT\n"
     ]
    }
   ],
   "source": [
    "# Q43. Decode a Caesar cipher encoded string.\n",
    "def decode_ceaser_cipher(str1,n):\n",
    "    res = \"\"\n",
    "    for i in range(len(str1)):\n",
    "        char = str1[i]\n",
    "        if (char.isupper()):\n",
    "            res += chr((ord(char) - n-65) % 26 + 65)\n",
    "\n",
    "        else:\n",
    "            res += chr((ord(char) - n-97) % 26 + 97)\n",
    " \n",
    "    return res\n",
    "\n",
    "\n",
    "#check the above function\n",
    "s1 = \"GeX\"\n",
    "n = 4\n",
    "print (\"Text  : \" + s1)\n",
    "print (\"Shift : \" + str(n))\n",
    "print (\"Cipher: \" + decode_ceaser_cipher(s1,n))"
   ]
  },
  {
   "cell_type": "code",
   "execution_count": 39,
   "metadata": {},
   "outputs": [
    {
     "name": "stdout",
     "output_type": "stream",
     "text": [
      "Given String s1: Dogs, scientifically known as Canis lupus familiaris, are domesticated mammals and members of the family Canidae. They are descendants of wolves and have been selectively bred for thousands of years for various behaviors, sensory capabilities, and physical attributes.\n",
      "Highest Frequency word in string s1:  ('of', 3)\n"
     ]
    }
   ],
   "source": [
    "# Q44. Find the most frequent word in a string.\n",
    "def word_count(str1):\n",
    "    count = dict()\n",
    "    words = str1.split()\n",
    "    for word in words:\n",
    "        if word in count:\n",
    "            count[word]+=1\n",
    "        else:\n",
    "            count[word] = 1\n",
    "\n",
    "    res = sorted(count.items(), key=lambda kv: kv[1])\n",
    "    return res[-1]\n",
    "\n",
    "s1 = \"Dogs, scientifically known as Canis lupus familiaris, are domesticated mammals and members of the family Canidae. They are descendants of wolves and have been selectively bred for thousands of years for various behaviors, sensory capabilities, and physical attributes.\"\n",
    "print(\"Given String s1: \"+s1)\n",
    "print(\"Highest Frequency word in string s1: \",word_count(s1))"
   ]
  },
  {
   "cell_type": "code",
   "execution_count": 40,
   "metadata": {},
   "outputs": [
    {
     "name": "stdout",
     "output_type": "stream",
     "text": [
      "['World', 'of', 'jake']\n"
     ]
    }
   ],
   "source": [
    "# Q45. Find all unique words in a string.\n",
    "def word_count(str1):\n",
    "    count = dict()\n",
    "    words = str1.split()\n",
    "    unique_word = []\n",
    "    for word in words:\n",
    "        if word in count:\n",
    "            count[word]+=1\n",
    "        else:\n",
    "            count[word] = 1\n",
    "\n",
    "    for key,value in count.items():\n",
    "        if value == 1:\n",
    "            unique_word.append(key)\n",
    "\n",
    "    return unique_word\n",
    "\n",
    "\n",
    "print(word_count(\"Hello World Hello Python Python of jake\"))"
   ]
  },
  {
   "cell_type": "code",
   "execution_count": 48,
   "metadata": {},
   "outputs": [
    {
     "name": "stdout",
     "output_type": "stream",
     "text": [
      "Number of syllables in the string: 14\n"
     ]
    }
   ],
   "source": [
    "# Q46. Count the number of syllables in a string.\n",
    "import re\n",
    "def count_syllables(word):\n",
    "    word = word.lower()\n",
    "    pattern = re.compile(r'[aeiouy]+')\n",
    "    matches = pattern.findall(word)\n",
    "    return len(matches)\n",
    "\n",
    "def count_syllables_in_string(s):\n",
    "    words = s.split()\n",
    "    total_syllables = sum(count_syllables(word) for word in words)\n",
    "    return total_syllables\n",
    "\n",
    "s1 = \"This is a example sentence to count syllables.\"\n",
    "print(f\"Number of syllables in the string: {count_syllables_in_string(s1)}\")"
   ]
  },
  {
   "cell_type": "code",
   "execution_count": 76,
   "metadata": {},
   "outputs": [
    {
     "name": "stdout",
     "output_type": "stream",
     "text": [
      "Yes the string s1 '%21sj$' contains special character.\n"
     ]
    }
   ],
   "source": [
    "# Q47. Check if a string contains any special characters.\n",
    "def check_spl_char(s):\n",
    "    sp_c = '[@_!#$%^&*()<>?/\\|}{~:]'\n",
    "    for i in range(len(s)):\n",
    "        if s[i] in sp_c:\n",
    "            return True\n",
    "    return False\n",
    "\n",
    "s1 = input(\"Enter String: \")\n",
    "\n",
    "if check_spl_char(s1):\n",
    "    print(\"Yes the string s1 '\"+s1+\"' contains special character.\")\n",
    "else:\n",
    "    print(\"No the string s1 '\"+s1+\"' does not contains special character.\")\n"
   ]
  },
  {
   "cell_type": "code",
   "execution_count": 95,
   "metadata": {},
   "outputs": [
    {
     "name": "stdout",
     "output_type": "stream",
     "text": [
      "Given String: 'Hello World! Python here.' and position of word to be removed: 1\n",
      "String After: Hello Python here.\n"
     ]
    }
   ],
   "source": [
    "# Q48. Remove the nth word from a string.\n",
    "def remove_n(s,n):\n",
    "    l = s.split()\n",
    "    l.remove(l[n])\n",
    "    return \" \".join(l)\n",
    "\n",
    "s1 = input(\"Enter string: \")\n",
    "n = int(input(\"Enter position of word to be removed: \"))\n",
    "print(\"Given String: '\"+s1+\"' and position of word to be removed: \"+str(n))\n",
    "s2 = remove_n(s1,n)\n",
    "print(\"String After: \"+s2)"
   ]
  },
  {
   "cell_type": "code",
   "execution_count": 97,
   "metadata": {},
   "outputs": [
    {
     "name": "stdout",
     "output_type": "stream",
     "text": [
      "Given String: 'Python Hello' and word to be inserted: 'World!'\n",
      "String After: Python Hello World!\n"
     ]
    }
   ],
   "source": [
    "# Q49. Insert a word at the nth position in a string.\n",
    "def add_word(s,w):\n",
    "    l = s.split()\n",
    "    l.append(w)\n",
    "    return \" \".join(l)\n",
    "\n",
    "s1 = input(\"Enter string: \")\n",
    "w = input(\"Enter word to be inserted: \")\n",
    "print(\"Given String: '\"+s1+\"' and word to be inserted: '\"+w+\"'\")\n",
    "s2 = add_word(s1,w)\n",
    "print(\"String After: \"+s2)"
   ]
  },
  {
   "cell_type": "code",
   "execution_count": 98,
   "metadata": {},
   "outputs": [
    {
     "name": "stdout",
     "output_type": "stream",
     "text": [
      "   ID    Name  Roll Number\n",
      "0   1   Harsh           44\n",
      "1   2  Sparsh           60\n",
      "2   3   Rohan           48\n",
      "3   4  Anupam           52\n"
     ]
    }
   ],
   "source": [
    "# Q50. Convert a CSV string to a list of lists.\n",
    "import pandas as pd\n",
    "\n",
    "dict1 = {\n",
    "    'ID':[1,2,3,4],\n",
    "    'Name':['Harsh','Sparsh','Rohan','Anupam'],\n",
    "    'Roll Number': [44,60,48,52]\n",
    "}\n",
    "\n",
    "df = pd.DataFrame(dict1)\n",
    "print(df)"
   ]
  },
  {
   "cell_type": "markdown",
   "metadata": {},
   "source": [
    "<h2><b>List Based Practice Problem :<b></h2>"
   ]
  },
  {
   "cell_type": "code",
   "execution_count": 103,
   "metadata": {},
   "outputs": [
    {
     "name": "stdout",
     "output_type": "stream",
     "text": [
      "List of Intgers from 1 to 10:  [1, 2, 3, 4, 5, 6, 7, 8, 9, 10]\n"
     ]
    }
   ],
   "source": [
    "# Q1. Create a list with integers from 1 to 10.\n",
    "print(\"List of Intgers from 1 to 10: \",list(range(1,11)))"
   ]
  },
  {
   "cell_type": "code",
   "execution_count": 105,
   "metadata": {},
   "outputs": [
    {
     "name": "stdout",
     "output_type": "stream",
     "text": [
      "Given list:  ['Python', 45, 12, 'DSA', 'English']\n",
      "Length of List l:  5\n"
     ]
    }
   ],
   "source": [
    "# Q2. Find the length of a list without using the `len()` function.\n",
    "l = ['Python',45,12,'DSA','English']\n",
    "print(\"Given list: \",l)\n",
    "count=0\n",
    "for i in l:\n",
    "    count+=1\n",
    "\n",
    "print(\"Length of List l: \",count)\n"
   ]
  },
  {
   "cell_type": "code",
   "execution_count": 114,
   "metadata": {},
   "outputs": [
    {
     "name": "stdout",
     "output_type": "stream",
     "text": [
      "Given list:  ['Python', 45, 12, 'DSA', 'English']\n",
      "List after:  ['Python', 45, 12, 'DSA', 'English', 'SQL']\n"
     ]
    }
   ],
   "source": [
    "# Q3. Append an element to the end of a list.\n",
    "l = ['Python',45,12,'DSA','English']\n",
    "print(\"Given list: \",l)\n",
    "l.append('SQL')\n",
    "print('List after: ',l)\n"
   ]
  },
  {
   "cell_type": "code",
   "execution_count": 118,
   "metadata": {},
   "outputs": [
    {
     "name": "stdout",
     "output_type": "stream",
     "text": [
      "Given list:  ['Python', 45, 12, 'DSA', 'English']\n",
      "List after:  ['Hello', 'Python', 45, 12, 'DSA', 'English']\n"
     ]
    }
   ],
   "source": [
    "# Q4. Insert an element at a specific index in a list.\n",
    "l = ['Python',45,12,'DSA','English']\n",
    "print(\"Given list: \",l)\n",
    "l.insert(0,\"Hello\")\n",
    "print('List after: ',l)"
   ]
  },
  {
   "cell_type": "code",
   "execution_count": 119,
   "metadata": {},
   "outputs": [
    {
     "name": "stdout",
     "output_type": "stream",
     "text": [
      "Given list:  ['Hello', 'Python', 45, 12, 'DSA', 'English']\n",
      "List after:  ['Python', 45, 12, 'DSA', 'English']\n"
     ]
    }
   ],
   "source": [
    "# Q5. Remove an element from a list by its value.\n",
    "l = ['Hello', 'Python', 45, 12, 'DSA', 'English']\n",
    "print(\"Given list: \",l)\n",
    "l.remove('Hello')\n",
    "print('List after: ',l)"
   ]
  },
  {
   "cell_type": "code",
   "execution_count": 121,
   "metadata": {},
   "outputs": [
    {
     "name": "stdout",
     "output_type": "stream",
     "text": [
      "Given list:  ['Hello', 'Python', 45, 12, 'DSA', 'English']  and index of element to remove: 2\n",
      "List after:  ['Hello', 'Python', 12, 'DSA', 'English']\n"
     ]
    }
   ],
   "source": [
    "# Q6. Remove an element from a list by its index.\n",
    "l = ['Hello', 'Python', 45, 12, 'DSA', 'English']\n",
    "n = int(input(\"Enter index of element to remove: \"))\n",
    "print(\"Given list: \",l,\" and index of element to remove: \"+str(n))\n",
    "l.remove(l[n])\n",
    "print('List after: ',l)"
   ]
  },
  {
   "cell_type": "code",
   "execution_count": 127,
   "metadata": {},
   "outputs": [
    {
     "name": "stdout",
     "output_type": "stream",
     "text": [
      "Given list:  ['Hello', 'Python', 45, 12, 'DSA', 'English']  and element to search: 2\n",
      "Yes, element 'Hello' exist in list l\n"
     ]
    }
   ],
   "source": [
    "# Q7. Check if an element exists in a list.\n",
    "l = ['Hello', 'Python', 45, 12, 'DSA', 'English']\n",
    "w = input(\"Enter element to search: \")\n",
    "print(\"Given list: \",l,\" and element to search: \"+str(n))\n",
    "if w in l:\n",
    "    print(\"Yes, element '\"+str(w)+\"' exist in list l\")\n",
    "elif int(w) in l:\n",
    "    print(\"Yes, element '\"+str(w)+\"' exist in list l\")\n",
    "else:\n",
    "    print(\"No, element '\"+str(w)+\"' doesnot exist in list l\")"
   ]
  },
  {
   "cell_type": "code",
   "execution_count": 135,
   "metadata": {},
   "outputs": [
    {
     "name": "stdout",
     "output_type": "stream",
     "text": [
      "Given list:  ['Hello', 'Python', 45, 12, 'DSA', 'English', 'DSA']\n",
      "Index of first occurence of element 'DSA': 4\n"
     ]
    }
   ],
   "source": [
    "# Q8. Find the index of the first occurrence of an element in a list.\n",
    "l = ['Hello', 'Python', 45, 12, 'DSA', 'English','DSA']\n",
    "print(\"Given list: \",l)\n",
    "print(\"Index of first occurence of element 'DSA':\",l.index('DSA'))\n"
   ]
  },
  {
   "cell_type": "code",
   "execution_count": 136,
   "metadata": {},
   "outputs": [
    {
     "name": "stdout",
     "output_type": "stream",
     "text": [
      "Given list:  ['Hello', 'Python', 45, 12, 'DSA', 'English', 'DSA']\n",
      "Number of occurences of element 'DSA': 2\n"
     ]
    }
   ],
   "source": [
    "# Q9. Count the occurrences of an element in a list.\n",
    "l = ['Hello', 'Python', 45, 12, 'DSA', 'English','DSA']\n",
    "print(\"Given list: \",l)\n",
    "print(\"Number of occurences of element 'DSA':\",l.count('DSA'))\n"
   ]
  },
  {
   "cell_type": "code",
   "execution_count": 137,
   "metadata": {},
   "outputs": [
    {
     "name": "stdout",
     "output_type": "stream",
     "text": [
      "Given list:  ['Hello', 'Python', 45, 12, 'DSA', 'English', 'DSA']\n",
      "List after reverse: ['DSA', 'English', 'DSA', 12, 45, 'Python', 'Hello']\n"
     ]
    }
   ],
   "source": [
    "# Q10. Reverse the order of elements in a list.\n",
    "l = ['Hello', 'Python', 45, 12, 'DSA', 'English','DSA']\n",
    "print(\"Given list: \",l)\n",
    "print(\"List after reverse:\",l[::-1])"
   ]
  },
  {
   "cell_type": "code",
   "execution_count": 140,
   "metadata": {},
   "outputs": [
    {
     "name": "stdout",
     "output_type": "stream",
     "text": [
      "Given List:  [4, 1, 7, 9, 2, 6]\n",
      "List after sorting in ascending order:  [1, 2, 4, 6, 7, 9]\n"
     ]
    }
   ],
   "source": [
    "# Q11. Sort a list in ascending order.\n",
    "l = [4,1,7,9,2,6]\n",
    "print(\"Given List: \",l)\n",
    "print(\"List after sorting in ascending order: \",sorted(l))"
   ]
  },
  {
   "cell_type": "code",
   "execution_count": 141,
   "metadata": {},
   "outputs": [
    {
     "name": "stdout",
     "output_type": "stream",
     "text": [
      "Given List:  [4, 1, 7, 9, 2, 6]\n",
      "List after sorting in ascending order:  [9, 7, 6, 4, 2, 1]\n"
     ]
    }
   ],
   "source": [
    "# Q12. Sort a list in descending order.\n",
    "l = [4,1,7,9,2,6]\n",
    "print(\"Given List: \",l)\n",
    "print(\"List after sorting in ascending order: \",sorted(l,reverse=True))"
   ]
  },
  {
   "cell_type": "code",
   "execution_count": 144,
   "metadata": {},
   "outputs": [
    {
     "name": "stdout",
     "output_type": "stream",
     "text": [
      "A list of even numbers from 1 to 20:  [2, 4, 6, 8, 10, 12, 14, 16, 18, 20]\n"
     ]
    }
   ],
   "source": [
    "# Q13. Create a list of even numbers from 1 to 20.\n",
    "l = [i for i in range(1,21) if i%2==0]\n",
    "print(\"A list of even numbers from 1 to 20: \",l)"
   ]
  },
  {
   "cell_type": "code",
   "execution_count": 145,
   "metadata": {},
   "outputs": [
    {
     "name": "stdout",
     "output_type": "stream",
     "text": [
      "A list of odd numbers from 1 to 20:  [1, 3, 5, 7, 9, 11, 13, 15, 17, 19]\n"
     ]
    }
   ],
   "source": [
    "# Q14. Create a list of odd numbers from 1 to 20.\n",
    "l = [i for i in range(1,21) if i%2!=0]\n",
    "print(\"A list of odd numbers from 1 to 20: \",l)"
   ]
  },
  {
   "cell_type": "code",
   "execution_count": 148,
   "metadata": {},
   "outputs": [
    {
     "name": "stdout",
     "output_type": "stream",
     "text": [
      "Given list:  [3, 5, 7, 9, 11, 13]\n",
      "Sum of all the elements in list:  48\n"
     ]
    }
   ],
   "source": [
    "# Q15. Find the sum of all elements in a list.\n",
    "l = list(range(3,15,2))\n",
    "print(\"Given list: \",l)\n",
    "print(\"Sum of all the elements in list: \",sum(l))"
   ]
  },
  {
   "cell_type": "code",
   "execution_count": 149,
   "metadata": {},
   "outputs": [
    {
     "name": "stdout",
     "output_type": "stream",
     "text": [
      "Given List:  [4, 1, 88, 7, 9, 2, 6, 12, 64, 22, 78, 21, 44, 32, 12]\n",
      "Maximum Value in list:  88\n"
     ]
    }
   ],
   "source": [
    "# Q16. Find the maximum value in a list.\n",
    "l = [4,1,88,7,9,2,6,12,64,22,78,21,44,32,12]\n",
    "print(\"Given List: \",l)\n",
    "print(\"Maximum Value in list: \",max(l))"
   ]
  },
  {
   "cell_type": "code",
   "execution_count": 151,
   "metadata": {},
   "outputs": [
    {
     "name": "stdout",
     "output_type": "stream",
     "text": [
      "Given List:  [4, 1, 88, 7, 9, 2, 6, 12, 64, 22, 78, 21, 44, 32, 12]\n",
      "Minimum Value in list:  1\n"
     ]
    }
   ],
   "source": [
    "# Q17. Find the minimum value in a list.\n",
    "l = [4,1,88,7,9,2,6,12,64,22,78,21,44,32,12]\n",
    "print(\"Given List: \",l)\n",
    "print(\"Minimum Value in list: \",min(l))"
   ]
  },
  {
   "cell_type": "code",
   "execution_count": 153,
   "metadata": {},
   "outputs": [
    {
     "name": "stdout",
     "output_type": "stream",
     "text": [
      "A list of squares of numbers from 1 to 10:  [1, 4, 9, 16, 25, 36, 49, 64, 81, 100]\n"
     ]
    }
   ],
   "source": [
    "# Q18. Create a list of squares of numbers from 1 to 10.\n",
    "l = [i**2 for i in range(1,11)]\n",
    "print(\"A list of squares of numbers from 1 to 10: \",l)"
   ]
  },
  {
   "cell_type": "code",
   "execution_count": 159,
   "metadata": {},
   "outputs": [
    {
     "name": "stdout",
     "output_type": "stream",
     "text": [
      "Given String:  [27, 52, 40, 7, 29, 49, 10, 4, 14, 21]\n"
     ]
    }
   ],
   "source": [
    "# Q19. Create a list of random numbers.\n",
    "import random\n",
    "l = [random.randint(3,52) for i in range(1,11)]\n",
    "print(\"Given String: \",l)"
   ]
  },
  {
   "cell_type": "code",
   "execution_count": 163,
   "metadata": {},
   "outputs": [
    {
     "name": "stdout",
     "output_type": "stream",
     "text": [
      "Given String:  [4, 1, 2, 6, 6, 78, 21, 21, 12]\n",
      "String after removing duplicate:  [1, 2, 4, 6, 12, 78, 21]\n"
     ]
    }
   ],
   "source": [
    "# Q20. Remove duplicates from a list.\n",
    "l = [4,1,2,6,6,78,21,21,12]\n",
    "print(\"Given String: \",l)\n",
    "l = list(set(l))\n",
    "print(\"String after removing duplicate: \",l)"
   ]
  },
  {
   "cell_type": "code",
   "execution_count": 167,
   "metadata": {},
   "outputs": [
    {
     "name": "stdout",
     "output_type": "stream",
     "text": [
      "List l1:  ['Hello', 'Python', 'World', 1, 6, 7]\n",
      "List l2:  [7, 6, 'Hello', 9, 2, 4, 2]\n",
      "Common elements between list l1 and l2:  ['Hello', 6, 7]\n"
     ]
    }
   ],
   "source": [
    "# Q21. Find the common elements between two lists.\n",
    "l1 = ['Hello','Python','World',1,6,7]\n",
    "print(\"List l1: \",l1)\n",
    "l2 = [7,6,'Hello',9,2,4,2]\n",
    "print(\"List l2: \",l2)\n",
    "l3 = [i for i in l1 if i in l2]\n",
    "print(\"Common elements between list l1 and l2: \",l3)\n"
   ]
  },
  {
   "cell_type": "code",
   "execution_count": 176,
   "metadata": {},
   "outputs": [
    {
     "name": "stdout",
     "output_type": "stream",
     "text": [
      "List l1:  ['Hello', 'Python', 'World', 1, 6, 7]\n",
      "List l2:  [7, 6, 'Hello', 9, 2, 4, 2]\n",
      "Different elements between list l1 and l2:  [1, 2, 4, 9, 'World', 'Python']\n"
     ]
    }
   ],
   "source": [
    "# Q22. Find the difference between two lists.\n",
    "l1 = ['Hello','Python','World',1,6,7]\n",
    "print(\"List l1: \",l1)\n",
    "l2 = [7,6,'Hello',9,2,4,2]\n",
    "print(\"List l2: \",l2)\n",
    "l3 = [i for i in l1 if i not in l2]\n",
    "l4 = [i for i in l2 if i not in l1]\n",
    "l5 = list(set(l3+l4))\n",
    "print(\"Different elements between list l1 and l2: \",l5)\n"
   ]
  },
  {
   "cell_type": "code",
   "execution_count": 172,
   "metadata": {},
   "outputs": [
    {
     "name": "stdout",
     "output_type": "stream",
     "text": [
      "List l1:  ['Hello', 'Python', 'World', 1, 6, 7]\n",
      "List l2:  [7, 6, 'Hello', 9, 2, 4, 2]\n",
      "Merge list l1 and l2:  ['Hello', 'Python', 'World', 1, 6, 7, 7, 6, 'Hello', 9, 2, 4, 2]\n"
     ]
    }
   ],
   "source": [
    "# Q23. Merge two lists.\n",
    "l1 = ['Hello','Python','World',1,6,7]\n",
    "print(\"List l1: \",l1)\n",
    "l2 = [7,6,'Hello',9,2,4,2]\n",
    "print(\"List l2: \",l2)\n",
    "l3 = l1+l2\n",
    "print(\"Merge list l1 and l2: \",l3)"
   ]
  },
  {
   "cell_type": "code",
   "execution_count": 180,
   "metadata": {},
   "outputs": [
    {
     "name": "stdout",
     "output_type": "stream",
     "text": [
      "Given List:  [27, 52, 40, 7, 29, 49, 10, 4, 14, 21]\n",
      "List after multiply all the elements by 2:  [54, 104, 80, 14, 58, 98, 20, 8, 28, 42]\n"
     ]
    }
   ],
   "source": [
    "# Q24. Multiply all elements in a list by 2.\n",
    "l = [27, 52, 40, 7, 29, 49, 10, 4, 14, 21]\n",
    "print(\"Given List: \",l)\n",
    "mult_two = list(map(lambda a: a*2,l))\n",
    "print(\"List after multiply all the elements by 2: \",mult_two)"
   ]
  },
  {
   "cell_type": "code",
   "execution_count": 181,
   "metadata": {},
   "outputs": [
    {
     "name": "stdout",
     "output_type": "stream",
     "text": [
      "Given List:  [3, 4, 5, 6, 32, 1, 3, 7, 9, 21, 22]\n",
      "List after filter out all even number:  [4, 6, 32, 22]\n"
     ]
    }
   ],
   "source": [
    "# Q25. Filter out all even numbers from a list.\n",
    "l = [3,4,5,6,32,1,3,7,9,21,22]\n",
    "print(\"Given List: \",l)\n",
    "filter_even = list(filter(lambda a: a%2==0,l))\n",
    "print(\"List after filter out all even number: \",filter_even)"
   ]
  },
  {
   "cell_type": "code",
   "execution_count": 3,
   "metadata": {},
   "outputs": [
    {
     "name": "stdout",
     "output_type": "stream",
     "text": [
      "Given list of strings:  ['1', '2', '5', '7', '9']\n",
      "List of integers:  [1, 2, 5, 7, 9]\n"
     ]
    }
   ],
   "source": [
    "# Q26. Convert a list of strings to a list of integers.\n",
    "l = ['1','2','5','7','9']\n",
    "print(\"Given list of strings: \",l)\n",
    "l_i = [int(i) for i in l]\n",
    "print(\"List of integers: \",l_i)"
   ]
  },
  {
   "cell_type": "code",
   "execution_count": 5,
   "metadata": {},
   "outputs": [
    {
     "name": "stdout",
     "output_type": "stream",
     "text": [
      "Given list of integers:  [1, 2, 5, 7, 9]\n",
      "List of strings:  ['1', '2', '5', '7', '9']\n"
     ]
    }
   ],
   "source": [
    "# Q27. Convert a list of integers to a list of strings.\n",
    "l_i = [1, 2, 5, 7, 9]\n",
    "print(\"Given list of integers: \",l_i)\n",
    "l = [str(i) for i in l]\n",
    "print(\"List of strings: \",l)"
   ]
  },
  {
   "cell_type": "code",
   "execution_count": 1,
   "metadata": {},
   "outputs": [
    {
     "name": "stdout",
     "output_type": "stream",
     "text": [
      "Given List:  [[2, 3], [7], [0, 1, 5, 7, 8]]\n",
      "List after flatten:  [2, 3, 7, 0, 1, 5, 7, 8]\n"
     ]
    }
   ],
   "source": [
    "# Q28. Flatten a nested list.\n",
    "l = [[2,3],[7],[0,1,5,7,8]]\n",
    "print(\"Given List: \",l)\n",
    "fl = [i for nest in l for i in nest]\n",
    "print(\"List after flatten: \",fl)"
   ]
  },
  {
   "cell_type": "code",
   "execution_count": 5,
   "metadata": {},
   "outputs": [
    {
     "name": "stdout",
     "output_type": "stream",
     "text": [
      "List of first 10 Fibonacci numbers:  [0, 1, 1, 2, 3, 5, 8, 13, 21, 34, 55]\n"
     ]
    }
   ],
   "source": [
    "# Q29. Create a list of the first 10 Fibonacci numbers.\n",
    "def fib(n):\n",
    "    if n==0:\n",
    "        return 0\n",
    "    elif n==1 or n==2:\n",
    "        return 1\n",
    "    return fib(n-1)+fib(n-2)\n",
    "\n",
    "l = []\n",
    "for i in range(0,11):\n",
    "    l.append(fib(i))\n",
    "\n",
    "print(\"List of first 10 Fibonacci numbers: \",l)"
   ]
  },
  {
   "cell_type": "code",
   "execution_count": 8,
   "metadata": {},
   "outputs": [
    {
     "name": "stdout",
     "output_type": "stream",
     "text": [
      "Given list l1:  [1, 2, 4, 7, 9, 13]\n",
      "List l1 is sorted\n",
      "Given list l2:  [3, 6, 7, 1, 5, 2, 4]\n",
      "List l2 is not sorted\n"
     ]
    }
   ],
   "source": [
    "# Q30. Check if a list is sorted.\n",
    "def check_sort(l):\n",
    "    if l == sorted(l):\n",
    "        return True\n",
    "    return False\n",
    "\n",
    "l1 = [1,2,4,7,9,13]\n",
    "print(\"Given list l1: \",l1)\n",
    "\n",
    "if check_sort(l1):\n",
    "    print(\"List l1 is sorted\")\n",
    "else:\n",
    "    print(\"List l1 is not sorted\")\n",
    "\n",
    "l2 = [3,6,7,1,5,2,4]\n",
    "print(\"Given list l2: \",l2)\n",
    "if check_sort(l2):\n",
    "    print(\"List l2 is sorted\")\n",
    "else:\n",
    "    print(\"List l2 is not sorted\")\n"
   ]
  },
  {
   "cell_type": "code",
   "execution_count": 14,
   "metadata": {},
   "outputs": [
    {
     "name": "stdout",
     "output_type": "stream",
     "text": [
      "Given List:  [1, 2, 3, 4, 5, 6, 7]\n",
      "List after 3 left rotation:  [4, 5, 6, 7, 1, 2, 3]\n"
     ]
    }
   ],
   "source": [
    "# Q31. Rotate a list to the left by `n` positions.\n",
    "l = [1,2,3,4,5,6,7]\n",
    "print(\"Given List: \",l)\n",
    "n = int(input(\"Enter N for rotation: \"))\n",
    "l = l[n:]+l[:n]\n",
    "print(f\"List after {n} left rotation: \",l)\n"
   ]
  },
  {
   "cell_type": "code",
   "execution_count": 18,
   "metadata": {},
   "outputs": [
    {
     "name": "stdout",
     "output_type": "stream",
     "text": [
      "Given List:  [1, 2, 3, 4, 5, 6, 7]\n",
      "List after 3 right rotation:  [5, 6, 7, 1, 2, 3, 4]\n"
     ]
    }
   ],
   "source": [
    "# Q32. Rotate a list to the right by `n` positions.\n",
    "l = [1,2,3,4,5,6,7]\n",
    "print(\"Given List: \",l)\n",
    "n = int(input(\"Enter N for rotation: \"))\n",
    "l = l[-n:]+l[:-n]\n",
    "print(f\"List after {n} right rotation: \",l)"
   ]
  },
  {
   "cell_type": "code",
   "execution_count": 22,
   "metadata": {},
   "outputs": [
    {
     "name": "stdout",
     "output_type": "stream",
     "text": [
      "List of Prime Numbers upto 50:  [2, 3, 5, 7, 11, 13, 17, 19, 23, 29, 31, 37, 41, 43, 47]\n"
     ]
    }
   ],
   "source": [
    "# Q33. Create a list of prime numbers up to 50.\n",
    "def prime(n):\n",
    "    for i in range(2,n):\n",
    "        if n%i==0:\n",
    "            return False\n",
    "    return True\n",
    "\n",
    "l =[]\n",
    "\n",
    "for i in range(2,51):\n",
    "    if prime(i):\n",
    "        l.append(i)\n",
    "\n",
    "print(\"List of Prime Numbers upto 50: \",l)\n"
   ]
  },
  {
   "cell_type": "code",
   "execution_count": 31,
   "metadata": {},
   "outputs": [
    {
     "name": "stdout",
     "output_type": "stream",
     "text": [
      "Given List:  [1, 2, 4, 7, 6, 8, 3, 12, 45, 21, 56, 42]\n",
      "List after:  [[1, 2, 4, 7], [6, 8, 3, 12], [45, 21, 56, 42]]\n"
     ]
    }
   ],
   "source": [
    "# Q34. Split a list into chunks of size `n`.\n",
    "l = [1,2,4,7,6,8,3,12,45,21,56,42]\n",
    "print(\"Given List: \",l)\n",
    "n = int(input(\"Enter n to divide list in chunks: \"))\n",
    "x = [ l[i:i+n] for i in range(0,len(l),n)]\n",
    "print(\"List after: \",x)"
   ]
  },
  {
   "cell_type": "code",
   "execution_count": 40,
   "metadata": {},
   "outputs": [
    {
     "name": "stdout",
     "output_type": "stream",
     "text": [
      "Given List:  [1, 2, 4, 7, 6, 8, 3, 12, 45, 21, 56, 31]\n",
      "Second Largest Number in list:  45\n"
     ]
    }
   ],
   "source": [
    "# Q35. Find the second largest number in a list.\n",
    "l = [1,2,4,7,6,8,3,12,45,21,56,31]\n",
    "print(\"Given List: \",l)\n",
    "print(\"Second Largest Number in list: \",sorted(l)[-2])"
   ]
  },
  {
   "cell_type": "code",
   "execution_count": 43,
   "metadata": {},
   "outputs": [
    {
     "name": "stdout",
     "output_type": "stream",
     "text": [
      "Given List:  [1, 2, 4, 7, 6, 8, 3, 12, 45, 21, 56, 31]\n",
      "List after square of each element:  [1, 4, 16, 49, 36, 64, 9, 144, 2025, 441, 3136, 961]\n"
     ]
    }
   ],
   "source": [
    "# Q36. Replace every element in a list with its square.\n",
    "l = [1,2,4,7,6,8,3,12,45,21,56,31]\n",
    "print(\"Given List: \",l)\n",
    "sq_l = list(map(lambda a: a**2,l))\n",
    "print(\"List after square of each element: \",sq_l)"
   ]
  },
  {
   "cell_type": "code",
   "execution_count": 52,
   "metadata": {},
   "outputs": [
    {
     "name": "stdout",
     "output_type": "stream",
     "text": [
      "Given List:  ['Sun', 'Moon', 'Earth', 'Mars']\n",
      "Dictionary:  {'Sun': 0, 'Moon': 1, 'Earth': 2, 'Mars': 3}\n"
     ]
    }
   ],
   "source": [
    "# Q37. Convert a list to a dictionary where list elements become keys and their indices become values.\n",
    "l = ['Sun','Moon','Earth','Mars']\n",
    "print(\"Given List: \",l)\n",
    "d = dict()\n",
    "\n",
    "for i in range(0,len(l)):\n",
    "    d[l[i]] = i\n",
    "\n",
    "print(\"Dictionary: \",d)\n",
    "    "
   ]
  },
  {
   "cell_type": "code",
   "execution_count": 54,
   "metadata": {},
   "outputs": [
    {
     "name": "stdout",
     "output_type": "stream",
     "text": [
      "Given List:  ['apple', 'banana', 'cherry', 'cake', 'cold drink', 'tea', 'coffee']\n",
      "List after Suffle:  ['cake', 'coffee', 'cold drink', 'apple', 'cherry', 'banana', 'tea']\n"
     ]
    }
   ],
   "source": [
    "# Q38. Shuffle the elements of a list randomly.\n",
    "import random\n",
    "\n",
    "l = [\"apple\", \"banana\", \"cherry\",\"cake\",\"cold drink\",\"tea\",\"coffee\"]\n",
    "print(\"Given List: \",l)\n",
    "random.shuffle(l)\n",
    "\n",
    "print(\"List after Suffle: \",l)"
   ]
  },
  {
   "cell_type": "code",
   "execution_count": 10,
   "metadata": {},
   "outputs": [
    {
     "name": "stdout",
     "output_type": "stream",
     "text": [
      "List of first 10 factorials:  [1, 1, 2, 6, 24, 120, 720, 5040, 40320, 362880, 3628800]\n"
     ]
    }
   ],
   "source": [
    "# Q39. Create a list of the first 10 factorial numbers.\n",
    "def fact(n):\n",
    "    if n==0:\n",
    "        return 1\n",
    "    return n*fact(n-1)\n",
    "\n",
    "l = [fact(i) for i in range(0,11)]\n",
    "print(\"List of first 10 factorials: \",l)    "
   ]
  },
  {
   "cell_type": "code",
   "execution_count": 21,
   "metadata": {},
   "outputs": [
    {
     "name": "stdout",
     "output_type": "stream",
     "text": [
      "Yes\n"
     ]
    }
   ],
   "source": [
    "# Q40. Check if two lists have at least one element in common.\n",
    "def check_el(l1,l2):\n",
    "    if len(l1)>len(l2):\n",
    "        for i in l1:\n",
    "            if i in l2:\n",
    "                return True\n",
    "    else:\n",
    "        for i in l2:\n",
    "            if i in l1:\n",
    "                return True\n",
    "    return False\n",
    "\n",
    "l1 = [1,4,6,'Python','Django','SQL']\n",
    "l2 = [5,7,8,'JAVA','SQL']\n",
    "\n",
    "if check_el(l1,l2):\n",
    "    print(\"Yes\")\n",
    "else:\n",
    "    print(\"No\")\n"
   ]
  },
  {
   "cell_type": "code",
   "execution_count": 31,
   "metadata": {},
   "outputs": [
    {
     "name": "stdout",
     "output_type": "stream",
     "text": [
      "Given List:  [12, 45, 2, 1, 7, 32, 9, 8, 4]\n",
      "List after:  []\n"
     ]
    }
   ],
   "source": [
    "# Q41. Remove all elements from a list.\n",
    "l1 = [12,45,2,1,7,32,9,8,4]\n",
    "print(\"Given List: \",l1)\n",
    "l1.clear()\n",
    "print(\"List after: \",l1)"
   ]
  },
  {
   "cell_type": "code",
   "execution_count": 56,
   "metadata": {},
   "outputs": [
    {
     "name": "stdout",
     "output_type": "stream",
     "text": [
      "Given list:  [-1, 3, 6, -3, -6, 7, -19]\n",
      "List after:  [0, 3, 6, 0, 0, 7, 0]\n"
     ]
    }
   ],
   "source": [
    "# Q42. Replace negative numbers in a list with 0.\n",
    "l1 = [-1,3,6,-3,-6,7,-19]\n",
    "print(\"Given list: \",l1)\n",
    "l1 = [0 if l1[i]<0 else l1[i] for i in range(len(l1))]\n",
    "print(\"List after: \",l1)"
   ]
  },
  {
   "cell_type": "code",
   "execution_count": 49,
   "metadata": {},
   "outputs": [
    {
     "name": "stdout",
     "output_type": "stream",
     "text": [
      "Given String:  Hello World I am Python\n",
      "List:  ['Hello', 'World', 'I', 'am', 'Python']\n"
     ]
    }
   ],
   "source": [
    "# Q43. Convert a string into a list of words.\n",
    "s = \"Hello World I am Python\"\n",
    "print(\"Given String: \",s)\n",
    "ls = s.split()\n",
    "print(\"List: \",ls)"
   ]
  },
  {
   "cell_type": "code",
   "execution_count": 47,
   "metadata": {},
   "outputs": [
    {
     "name": "stdout",
     "output_type": "stream",
     "text": [
      "Given list:  ['Hello', 'World', 'I', 'am', 'Python']\n",
      "String:  Hello World I am Python\n"
     ]
    }
   ],
   "source": [
    "# Q44. Convert a list of words into a string.\n",
    "ls = ['Hello','World','I','am','Python']\n",
    "print(\"Given list: \",ls)\n",
    "s = \" \".join(ls)\n",
    "print(\"String: \",s)"
   ]
  },
  {
   "cell_type": "code",
   "execution_count": 58,
   "metadata": {},
   "outputs": [
    {
     "name": "stdout",
     "output_type": "stream",
     "text": [
      "List:  [1, 2, 4, 8, 16, 32, 64, 128, 256, 512]\n"
     ]
    }
   ],
   "source": [
    "# Q45. Create a list of the first `n` powers of 2.\n",
    "n = int(input(\"Enter n for list of first n powers of 2: \"))\n",
    "l1 = [2**i for i in range(n)]\n",
    "print(\"List: \",l1)"
   ]
  },
  {
   "cell_type": "code",
   "execution_count": 96,
   "metadata": {},
   "outputs": [
    {
     "name": "stdout",
     "output_type": "stream",
     "text": [
      "Given List:  ['hello', 'python', 'programming', 'Data Analytics', 'Data Science']\n",
      "largest string:  ('Data Analytics', 14)\n"
     ]
    }
   ],
   "source": [
    "# Q46. Find the longest string in a list of strings.\n",
    "l1 = [\"hello\",\"python\",\"programming\",\"Data Analytics\",\"Data Science\"]\n",
    "print(\"Given List: \",l1)\n",
    "st = dict()\n",
    "for i in l1:\n",
    "    st[i]=len(i)\n",
    "\n",
    "new_dict = sorted(st.items(),key=lambda i: i[1])\n",
    "print(\"largest string: \",new_dict[-1])"
   ]
  },
  {
   "cell_type": "code",
   "execution_count": 101,
   "metadata": {},
   "outputs": [
    {
     "name": "stdout",
     "output_type": "stream",
     "text": [
      "Given List:  ['hello', 'python', 'programming', 'Data Analytics', 'Data Science']\n",
      "Shortest string:  ('hello', 5)\n"
     ]
    }
   ],
   "source": [
    "# Q47. Find the shortest string in a list of strings.\n",
    "l1 = [\"hello\",\"python\",\"programming\",\"Data Analytics\",\"Data Science\"]\n",
    "print(\"Given List: \",l1)\n",
    "st = dict()\n",
    "for i in l1:\n",
    "    st[i]=len(i)\n",
    "\n",
    "new_dict = sorted(st.items(),key=lambda i: i[1])\n",
    "print(\"Shortest string: \",new_dict[0])"
   ]
  },
  {
   "cell_type": "code",
   "execution_count": 93,
   "metadata": {},
   "outputs": [
    {
     "name": "stdout",
     "output_type": "stream",
     "text": [
      "List:  [1, 3, 6, 10, 15, 21, 28, 36, 45, 55]\n"
     ]
    }
   ],
   "source": [
    "# Q48. Create a list of the first `n` triangular numbers.\n",
    "n = int(input(\"Enter n for list of first n trinangular number: \"))\n",
    "l1 = [(i * (i + 1)) // 2 for i in range(1, n+1)]\n",
    "print(\"List: \",l1)"
   ]
  },
  {
   "cell_type": "code",
   "execution_count": 105,
   "metadata": {},
   "outputs": [
    {
     "name": "stdout",
     "output_type": "stream",
     "text": [
      "Given List:  [1, 2, 5, 6, 8, 9, 10]\n",
      "Sublist:  [5, 8, 10]\n",
      "Yes, sb1 is subsequence of list l1\n"
     ]
    }
   ],
   "source": [
    "# Q49. Check if a list contains another list as a subsequence.\n",
    "def check_sub(l1,sb1):\n",
    "    it = iter(l1)\n",
    "    return all(elem in it for elem in sb1)\n",
    "\n",
    "l1 = [1,2,5,6,8,9,10]\n",
    "print(\"Given List: \",l1)\n",
    "sb1 = [5,8,10]\n",
    "print(\"Sublist: \",sb1)\n",
    "\n",
    "if check_sub(l1,sb1):\n",
    "    print(\"Yes, sb1 is subsequence of list l1\")\n",
    "else:\n",
    "    print(\"No\")"
   ]
  },
  {
   "cell_type": "code",
   "execution_count": 100,
   "metadata": {},
   "outputs": [
    {
     "name": "stdout",
     "output_type": "stream",
     "text": [
      "Given List:  ['hello', 'python', 'programming', 'Data Analytics', 'Data Science']\n",
      "List after:  ['hello', 'Data Analytics', 'programming', 'python', 'Data Science']\n"
     ]
    }
   ],
   "source": [
    "# Q50. Swap two elements in a list by their indices.\n",
    "l1 = [\"hello\",\"python\",\"programming\",\"Data Analytics\",\"Data Science\"]\n",
    "print(\"Given List: \",l1)\n",
    "i, j = map(int, input(\"Enter i and j indices: \").split())\n",
    "temp = l1[i]\n",
    "l1[i] = l1[j]\n",
    "l1[j] = temp\n",
    "\n",
    "print(\"List after: \",l1)"
   ]
  },
  {
   "cell_type": "markdown",
   "metadata": {},
   "source": [
    "<h2>Tuple based practice problems<h2>"
   ]
  },
  {
   "cell_type": "code",
   "execution_count": 110,
   "metadata": {},
   "outputs": [
    {
     "name": "stdout",
     "output_type": "stream",
     "text": [
      "Tuple with integers from 1 to 5 (1, 2, 3, 4, 5)\n"
     ]
    }
   ],
   "source": [
    "# Q1. Create a tuple with integers from 1 to 5.\n",
    "t1 = tuple([i for i in range(1,6)])\n",
    "print(\"Tuple with integers from 1 to 5\",t1)"
   ]
  },
  {
   "cell_type": "code",
   "execution_count": 114,
   "metadata": {},
   "outputs": [
    {
     "name": "stdout",
     "output_type": "stream",
     "text": [
      "Third element in tuple t1:  3\n"
     ]
    }
   ],
   "source": [
    "# Q2. Access the third element of a tuple.\n",
    "print(\"Third element in tuple t1: \",t1[2])\n"
   ]
  },
  {
   "cell_type": "code",
   "execution_count": 117,
   "metadata": {},
   "outputs": [
    {
     "name": "stdout",
     "output_type": "stream",
     "text": [
      "Give Tuple:  (1, 2, 3, 4, 5)\n",
      "Length of tuple t1 with using len() function:  5\n"
     ]
    }
   ],
   "source": [
    "# Q3. Find the length of a tuple without using the `len()` function.\n",
    "print(\"Give Tuple: \",t1)\n",
    "count = 0\n",
    "for i in t1:\n",
    "    count+=1\n",
    "\n",
    "print(\"Length of tuple t1 with using len() function: \",count)"
   ]
  },
  {
   "cell_type": "code",
   "execution_count": 127,
   "metadata": {},
   "outputs": [
    {
     "name": "stdout",
     "output_type": "stream",
     "text": [
      "Given Tuple:  (1, 2, 3, 2, 5, 6, 7, 8, 9)\n",
      "Occurence of element 2 in t1 tuple:  2\n"
     ]
    }
   ],
   "source": [
    "# Q4. Count the occurrences of an element in a tuple.\n",
    "t1 = (1,2,3,2,5,6,7,8,9)\n",
    "print(\"Given Tuple: \",t1)\n",
    "print(\"Occurence of element 2 in t1 tuple: \",t1.count(2))"
   ]
  },
  {
   "cell_type": "code",
   "execution_count": 129,
   "metadata": {},
   "outputs": [
    {
     "name": "stdout",
     "output_type": "stream",
     "text": [
      "Given tuple:  (1, 2, 3, 2, 5, 6, 7, 8, 9)\n",
      "First index of first occurrence of element 2:  1\n"
     ]
    }
   ],
   "source": [
    "# Q5. Find the index of the first occurrence of an element in a tuple.\n",
    "print(\"Given tuple: \",t1)\n",
    "print(\"First index of first occurrence of element 2: \",t1.index(2))"
   ]
  },
  {
   "cell_type": "code",
   "execution_count": 138,
   "metadata": {},
   "outputs": [
    {
     "name": "stdout",
     "output_type": "stream",
     "text": [
      "Given tuple t1:  (1, 2, 3, 2, 5, 6, 7, 8, 9)\n",
      "Yes, 2 present in Tuple\n"
     ]
    }
   ],
   "source": [
    "# Q6. Check if an element exists in a tuple\n",
    "print(\"Given tuple t1: \",t1)\n",
    "num = int(input(\"Enter element: \"))\n",
    "if t1.count(num)>0:\n",
    "    print(f\"Yes, {num} present in Tuple\")\n",
    "else:\n",
    "    print(f\"No, {num} not present in tuple\")\n"
   ]
  },
  {
   "cell_type": "code",
   "execution_count": 140,
   "metadata": {},
   "outputs": [
    {
     "name": "stdout",
     "output_type": "stream",
     "text": [
      "Type of t2:  <class 'tuple'>\n",
      "Type of t2 after converting to list:  <class 'list'>\n"
     ]
    }
   ],
   "source": [
    "# Q7. Convert a tuple to a list.\n",
    "t2 = (2,4,5,7,8,9,4,1)\n",
    "print(\"Type of t2: \",type(t2))\n",
    "t2 = list(t2)\n",
    "print(\"Type of t2 after converting to list: \",type(t2))"
   ]
  },
  {
   "cell_type": "code",
   "execution_count": 144,
   "metadata": {},
   "outputs": [
    {
     "name": "stdout",
     "output_type": "stream",
     "text": [
      "Given list t2:  [2, 4, 5, 7, 8, 9, 4, 1]\n",
      "Given tuple t2:  (2, 4, 5, 7, 8, 9, 4, 1)\n"
     ]
    }
   ],
   "source": [
    "# Q8. Convert a list to a tuple.\n",
    "print(\"Given list t2: \",t2)\n",
    "t2 = tuple(t2)\n",
    "print(\"Given tuple t2: \",t2)"
   ]
  },
  {
   "cell_type": "code",
   "execution_count": 147,
   "metadata": {},
   "outputs": [
    {
     "name": "stdout",
     "output_type": "stream",
     "text": [
      "Given tuple t3:  ('Harsh', 'B.tect', 'CSE', 544, 90)\n",
      "Name:  Harsh\n",
      "Course:  ['B.tect', 'CSE']\n",
      "Roll Number:  544\n",
      "Marks:  90\n"
     ]
    }
   ],
   "source": [
    "# Q9. Unpack the elements of a tuple into variables.\n",
    "t3 = (\"Harsh\",\"B.tect\",\"CSE\",544,90)\n",
    "print(\"Given tuple t3: \",t3)\n",
    "\n",
    "name, *course, roll_num, marks = t3\n",
    "print(\"Name: \",name)\n",
    "print(\"Course: \",course)\n",
    "print(\"Roll Number: \",roll_num)\n",
    "print(\"Marks: \",marks)\n"
   ]
  },
  {
   "cell_type": "code",
   "execution_count": 151,
   "metadata": {},
   "outputs": [
    {
     "name": "stdout",
     "output_type": "stream",
     "text": [
      "Tuple for even number from 1 to 10:  (2, 4, 6, 8, 10)\n"
     ]
    }
   ],
   "source": [
    "# Q10. Create a tuple of even numbers from 1 to 10.\n",
    "t1 = tuple([i for i in range(1,11) if i%2==0])\n",
    "print(\"Tuple for even number from 1 to 10: \",t1)"
   ]
  },
  {
   "cell_type": "code",
   "execution_count": 153,
   "metadata": {},
   "outputs": [
    {
     "name": "stdout",
     "output_type": "stream",
     "text": [
      "Tuple for even number from 1 to 10:  (1, 3, 5, 7, 9)\n"
     ]
    }
   ],
   "source": [
    "# Q11. Create a tuple of odd numbers from 1 to 10.\n",
    "t1 = tuple([i for i in range(1,11) if i%2!=0])\n",
    "print(\"Tuple for even number from 1 to 10: \",t1)"
   ]
  },
  {
   "cell_type": "code",
   "execution_count": 161,
   "metadata": {},
   "outputs": [
    {
     "name": "stdout",
     "output_type": "stream",
     "text": [
      "Tuple t1:  (2, 3, 5, 6)\n",
      "Tuple t2:  (4, 5, 7, 8)\n",
      "Tuple t3 after concatenating t1 and t2:  (2, 3, 5, 6, 4, 5, 7, 8)\n"
     ]
    }
   ],
   "source": [
    "# Q12. Concatenate two tuples.\n",
    "t1 = (2,3,5,6)\n",
    "print(\"Tuple t1: \",t1)\n",
    "t2 = (4,5,7,8)\n",
    "print(\"Tuple t2: \",t2)\n",
    "t3 = t1+t2\n",
    "print(\"Tuple t3 after concatenating t1 and t2: \",t3) "
   ]
  },
  {
   "cell_type": "code",
   "execution_count": 163,
   "metadata": {},
   "outputs": [
    {
     "name": "stdout",
     "output_type": "stream",
     "text": [
      "Given Tuple:  (1, 2, 3)\n",
      "Repeating tuple t1 3 times:  (1, 2, 3, 1, 2, 3, 1, 2, 3)\n"
     ]
    }
   ],
   "source": [
    "# Q13. Repeat a tuple three times.\n",
    "t1 = (1,2,3)\n",
    "print(\"Given Tuple: \",t1)\n",
    "print(\"Repeating tuple t1 3 times: \",t1*3)"
   ]
  },
  {
   "cell_type": "code",
   "execution_count": 166,
   "metadata": {},
   "outputs": [
    {
     "name": "stdout",
     "output_type": "stream",
     "text": [
      "Tuple t1 is not empty\n",
      "Tuple t2 is empty\n"
     ]
    }
   ],
   "source": [
    "# Q14. Check if a tuple is empty.\n",
    "t1 = (1,2,3)\n",
    "t2 = ()\n",
    "\n",
    "if len(t1) == 0:\n",
    "    print(\"Tuple t1 is empty\")\n",
    "else:\n",
    "    print(\"Tuple t1 is not empty\")\n",
    "\n",
    "if len(t2) == 0:\n",
    "    print(\"Tuple t2 is empty\")\n",
    "else: \n",
    "    print(\"Tuple t2 is not empty\")\n"
   ]
  },
  {
   "cell_type": "code",
   "execution_count": 169,
   "metadata": {},
   "outputs": [
    {
     "name": "stdout",
     "output_type": "stream",
     "text": [
      "Nested tuple t1:  ((1, 3, 5, 7), (2, 4, 6, 8))\n"
     ]
    }
   ],
   "source": [
    "# Q15. Create a nested tuple.\n",
    "t1 = ((1,3,5,7),(2,4,6,8))\n",
    "print(\"Nested tuple t1: \",t1)"
   ]
  },
  {
   "cell_type": "code",
   "execution_count": 174,
   "metadata": {},
   "outputs": [
    {
     "name": "stdout",
     "output_type": "stream",
     "text": [
      "Given nested  tuple t1:  ((1, 3, 5, 7), (2, 4, 6, 8))\n",
      "First element of nested tuple t1:  1\n"
     ]
    }
   ],
   "source": [
    "# Q16. Access the first element of a nested tuple.\n",
    "print(\"Given nested  tuple t1: \",t1)\n",
    "print(\"First element of nested tuple t1: \" ,t1[0][0])"
   ]
  },
  {
   "cell_type": "code",
   "execution_count": 179,
   "metadata": {},
   "outputs": [
    {
     "name": "stdout",
     "output_type": "stream",
     "text": [
      "Tuple t1:  (2,)\n",
      "<class 'tuple'>\n"
     ]
    }
   ],
   "source": [
    "# Q17. Create a tuple with a single element.\n",
    "t1 = tuple([2])\n",
    "print(\"Tuple t1: \",t1)\n",
    "print(type(t1))"
   ]
  },
  {
   "cell_type": "code",
   "execution_count": 181,
   "metadata": {},
   "outputs": [
    {
     "name": "stdout",
     "output_type": "stream",
     "text": [
      "Tuple t1:  (6, 9, 15)\n",
      "Tuple t2:  (13, 17, 24)\n",
      "Comparing elements in t2 are greater than elements in t1:  True\n"
     ]
    }
   ],
   "source": [
    "# Q18. Compare two tuples.\n",
    "t1 = (6,9,15)\n",
    "print(\"Tuple t1: \",t1)\n",
    "t2 = (13,17,24)\n",
    "print(\"Tuple t2: \",t2)\n",
    "\n",
    "res = all(x < y for x,y in zip(t1,t2))\n",
    "\n",
    "print(\"Comparing elements in t2 are greater than elements in t1: \",res)\n"
   ]
  },
  {
   "cell_type": "code",
   "execution_count": 184,
   "metadata": {},
   "outputs": [
    {
     "name": "stdout",
     "output_type": "stream",
     "text": [
      "Tuple before deletion:  ('Car', 'Bus', 'Truck')\n"
     ]
    },
    {
     "ename": "NameError",
     "evalue": "name 'tup' is not defined",
     "output_type": "error",
     "traceback": [
      "\u001b[1;31m---------------------------------------------------------------------------\u001b[0m",
      "\u001b[1;31mNameError\u001b[0m                                 Traceback (most recent call last)",
      "Input \u001b[1;32mIn [184]\u001b[0m, in \u001b[0;36m<cell line: 5>\u001b[1;34m()\u001b[0m\n\u001b[0;32m      3\u001b[0m \u001b[38;5;28mprint\u001b[39m(\u001b[38;5;124m\"\u001b[39m\u001b[38;5;124mTuple before deletion: \u001b[39m\u001b[38;5;124m\"\u001b[39m,tup)\n\u001b[0;32m      4\u001b[0m \u001b[38;5;28;01mdel\u001b[39;00m tup\n\u001b[1;32m----> 5\u001b[0m \u001b[38;5;28mprint\u001b[39m(\u001b[38;5;124m\"\u001b[39m\u001b[38;5;124mTuple after deletion throws error\u001b[39m\u001b[38;5;124m\"\u001b[39m,\u001b[43mtup\u001b[49m)\n",
      "\u001b[1;31mNameError\u001b[0m: name 'tup' is not defined"
     ]
    }
   ],
   "source": [
    "# Q19. Delete a tuple.\n",
    "tup = (\"Car\",\"Bus\",\"Truck\")\n",
    "print(\"Tuple before deletion: \",tup)\n",
    "del tup\n",
    "print(\"Tuple after deletion throws error\",tup)"
   ]
  },
  {
   "cell_type": "code",
   "execution_count": 190,
   "metadata": {},
   "outputs": [
    {
     "name": "stdout",
     "output_type": "stream",
     "text": [
      "Given tuple t1:  (3, 5, 7, 9, 2, 1)\n",
      "Tuple t1 using slice operation :  (7, 9, 2)\n"
     ]
    }
   ],
   "source": [
    "# Q20. Slice a tuple\n",
    "t1 = (3,5,7,9,2,1)\n",
    "print(\"Given tuple t1: \",t1)\n",
    "print(\"Tuple t1 using slice operation : \",t1[2:5])"
   ]
  },
  {
   "cell_type": "code",
   "execution_count": 194,
   "metadata": {},
   "outputs": [
    {
     "name": "stdout",
     "output_type": "stream",
     "text": [
      "Given tuple t1:  (3, 5, 7, 9, 2, 1)\n",
      "Maximum element in tuple t1:  9\n"
     ]
    }
   ],
   "source": [
    "# Q21. Find the maximum value in a tuple.\n",
    "print(\"Given tuple t1: \",t1)\n",
    "print(\"Maximum element in tuple t1: \",max(t1))"
   ]
  },
  {
   "cell_type": "code",
   "execution_count": 196,
   "metadata": {},
   "outputs": [
    {
     "name": "stdout",
     "output_type": "stream",
     "text": [
      "Given tuple t1:  (3, 5, 7, 9, 2, 1)\n",
      "Minimum element in tuple t1:  1\n"
     ]
    }
   ],
   "source": [
    "# Q22. Find the minimum value in a tuple.\n",
    "print(\"Given tuple t1: \",t1)\n",
    "print(\"Minimum element in tuple t1: \",min(t1))"
   ]
  },
  {
   "cell_type": "code",
   "execution_count": 203,
   "metadata": {},
   "outputs": [
    {
     "name": "stdout",
     "output_type": "stream",
     "text": [
      "Given string:  Hello world this is python\n",
      "Tuple of string:  ('Hello', 'world', 'this', 'is', 'python')\n"
     ]
    }
   ],
   "source": [
    "# Q23. Convert a string to a tuple of characters.\n",
    "s1 = \"Hello world this is python\"\n",
    "print(\"Given string: \",s1)\n",
    "t1 = tuple(s1.split())\n",
    "print(\"Tuple of string: \",t1)"
   ]
  },
  {
   "cell_type": "code",
   "execution_count": 3,
   "metadata": {},
   "outputs": [
    {
     "name": "stdout",
     "output_type": "stream",
     "text": [
      "Given Tuple t1:  ('Hello', 'world', 'this', 'is', 'python')\n",
      "String of tuple character:  Hello world this is python\n"
     ]
    }
   ],
   "source": [
    "# Q24. Convert a tuple of characters to a string.\n",
    "t1 = ('Hello','world','this','is','python')\n",
    "print(\"Given Tuple t1: \",t1)\n",
    "s = \" \".join(t1)\n",
    "print(\"String of tuple character: \",s)"
   ]
  },
  {
   "cell_type": "code",
   "execution_count": 5,
   "metadata": {},
   "outputs": [
    {
     "name": "stdout",
     "output_type": "stream",
     "text": [
      "Tuple with multiple data types:  (1, 'Hello', 2.4, [4, 6], (23, 88), {'first': 1, 'second': 2})\n"
     ]
    }
   ],
   "source": [
    "# Q25. Create a tuple from multiple data types.\n",
    "t1 = (1,\"Hello\",2.4,[4,6],(23,88),{\"first\":1,\"second\":2})\n",
    "\n",
    "print(\"Tuple with multiple data types: \",t1)\n"
   ]
  },
  {
   "cell_type": "code",
   "execution_count": 8,
   "metadata": {},
   "outputs": [
    {
     "name": "stdout",
     "output_type": "stream",
     "text": [
      "Tuple t1:  (1, 2, 4)\n",
      "Tuple t2:  (1, 2, 4)\n",
      "tuple t1 and t2 are identical\n"
     ]
    }
   ],
   "source": [
    "# Q26. Check if two tuples are identical.\n",
    "t1 = (1,2,4)\n",
    "print(\"Tuple t1: \",t1)\n",
    "t2 = (1,2,4)\n",
    "print(\"Tuple t2: \",t2)\n",
    "\n",
    "if t1==t2:\n",
    "    print(\"tuple t1 and t2 are identical\")\n",
    "else:\n",
    "    print(\"tuple t1 and t2 are not identical\")"
   ]
  },
  {
   "cell_type": "code",
   "execution_count": 14,
   "metadata": {},
   "outputs": [
    {
     "name": "stdout",
     "output_type": "stream",
     "text": [
      "Tuple t1:  (9, 4, 1, 6, 5, 2, 7)\n",
      "Sorted tuple t1:  (1, 2, 4, 5, 6, 7, 9)\n"
     ]
    }
   ],
   "source": [
    "# Q27. Sort the elements of a tuple.\n",
    "t1 = (9,4,1,6,5,2,7)\n",
    "print(\"Tuple t1: \",t1)\n",
    "t1 = tuple(sorted(t1))\n",
    "print(\"Sorted tuple t1: \",t1)"
   ]
  },
  {
   "cell_type": "code",
   "execution_count": 18,
   "metadata": {},
   "outputs": [
    {
     "name": "stdout",
     "output_type": "stream",
     "text": [
      "Given tuple:  (1, 2, 4, 6, 8)\n",
      "Tuple of strings:  ('1', '2', '4', '6', '8')\n"
     ]
    }
   ],
   "source": [
    "# Q28. Convert a tuple of integers to a tuple of strings.\n",
    "t1 = (1,2,4,6,8)\n",
    "print(\"Given tuple: \",t1)\n",
    "st_tuple = tuple(map(lambda a: str(a),t1))\n",
    "print(\"Tuple of strings: \",st_tuple)"
   ]
  },
  {
   "cell_type": "code",
   "execution_count": 21,
   "metadata": {},
   "outputs": [
    {
     "name": "stdout",
     "output_type": "stream",
     "text": [
      "Given tuple:  ('1', '2', '4', '6', '8')\n",
      "Tuple of integers:  (1, 2, 4, 6, 8)\n"
     ]
    }
   ],
   "source": [
    "# Q29. Convert a tuple of strings to a tuple of integers.\n",
    "t1 = ('1','2','4','6','8')\n",
    "print(\"Given tuple: \",t1)\n",
    "st_tuple = tuple(map(lambda a: int(a),t1))\n",
    "print(\"Tuple of integers: \",st_tuple)\n"
   ]
  },
  {
   "cell_type": "code",
   "execution_count": 24,
   "metadata": {},
   "outputs": [
    {
     "name": "stdout",
     "output_type": "stream",
     "text": [
      "Tuple t1:  (1, 12, 4, 5, 6)\n",
      "tuple t2:  (3, 5, 7, 31, 45)\n",
      "tuple after merging:  (1, 12, 4, 5, 6, 3, 5, 7, 31, 45)\n"
     ]
    }
   ],
   "source": [
    "# Q30. Merge two tuples.\n",
    "t1 = (1,12,4,5,6)\n",
    "print(\"Tuple t1: \",t1)\n",
    "t2 = (3,5,7,31,45)\n",
    "print(\"tuple t2: \",t2)\n",
    "print(\"tuple after merging: \",t1+t2)"
   ]
  },
  {
   "cell_type": "code",
   "execution_count": 40,
   "metadata": {},
   "outputs": [
    {
     "name": "stdout",
     "output_type": "stream",
     "text": [
      "Given tuple:  ((2, 3), (2, 7), (0, 1))\n",
      "Flatten tuple:  (2, 3, 2, 7, 0, 1)\n"
     ]
    }
   ],
   "source": [
    "# Q31. Flatten a nested tuple.\n",
    "t1 = ((2,3),(2,7),(0,1))\n",
    "print(\"Given tuple: \",t1)\n",
    "res = tuple(item for sub_tuple in t1 for item in sub_tuple)\n",
    "print(\"Flatten tuple: \",res)"
   ]
  },
  {
   "cell_type": "code",
   "execution_count": 47,
   "metadata": {},
   "outputs": [
    {
     "name": "stdout",
     "output_type": "stream",
     "text": [
      "tuple of first 5 prime number:  (2, 3, 5)\n"
     ]
    }
   ],
   "source": [
    "# Q32. Create a tuple of the first 5 prime numbers.\n",
    "def check_prime(n):\n",
    "    for i in range(2,n):\n",
    "        if n%i==0:\n",
    "            return False\n",
    "    return True\n",
    "\n",
    "t1 = tuple(i for i in range(2,6) if check_prime(i))\n",
    "\n",
    "print(\"tuple of first 5 prime number: \",t1)"
   ]
  },
  {
   "cell_type": "code",
   "execution_count": 50,
   "metadata": {},
   "outputs": [
    {
     "name": "stdout",
     "output_type": "stream",
     "text": [
      "Tuple t1:  (1, 2, 3, 1)\n",
      "Tuple t2:  (1, 2, 2, 1)\n",
      "Tuple t1 is a not pallindrome\n",
      "Tuple t2 is a pallindrome\n"
     ]
    }
   ],
   "source": [
    "# Q33. Check if a tuple is a palindrome.\n",
    "t1 = (1,2,3,1)\n",
    "print(\"Tuple t1: \",t1)\n",
    "t2 = (1,2,2,1)\n",
    "print(\"Tuple t2: \",t2)\n",
    "\n",
    "if t1 == t1[::-1]:\n",
    "    print(\"Tuple t1 is a pallindrome\")\n",
    "else:\n",
    "    print(\"Tuple t1 is a not pallindrome\")\n",
    "\n",
    "if t2 == t2[::-1]:\n",
    "    print(\"Tuple t2 is a pallindrome\")\n",
    "else:\n",
    "    print(\"Tuple t2 is a not pallindrome\")\n"
   ]
  },
  {
   "cell_type": "code",
   "execution_count": 53,
   "metadata": {},
   "outputs": [
    {
     "name": "stdout",
     "output_type": "stream",
     "text": [
      "Tuple of squares of numbers from 1 to 5:  (1, 4, 9, 16, 25)\n"
     ]
    }
   ],
   "source": [
    "# Q34. Create a tuple of squares of numbers from 1 to 5.\n",
    "t1 = tuple(i**2 for i in range(1,6))\n",
    "print(\"Tuple of squares of numbers from 1 to 5: \",t1)"
   ]
  },
  {
   "cell_type": "code",
   "execution_count": 55,
   "metadata": {},
   "outputs": [
    {
     "name": "stdout",
     "output_type": "stream",
     "text": [
      "Given tuple:  (1, 2, 3, 4, 5, 6, 7, 8, 9, 10)\n",
      "Tuple after filtering out even numbers:  (2, 4, 6, 8, 10)\n"
     ]
    }
   ],
   "source": [
    "# Q35. Filter out all even numbers from a tuple.\n",
    "t1 = (1,2,3,4,5,6,7,8,9,10)\n",
    "print(\"Given tuple: \",t1)\n",
    "t2 = tuple(filter(lambda a: a%2==0,t1))\n",
    "print(\"Tuple after filtering out even numbers: \",t2)"
   ]
  },
  {
   "cell_type": "code",
   "execution_count": 57,
   "metadata": {},
   "outputs": [
    {
     "name": "stdout",
     "output_type": "stream",
     "text": [
      "Given tuple:  (1, 2, 3, 4, 5, 6, 7, 8, 9, 10)\n",
      "Tuple after multiplying all elements by 2:  (2, 4, 6, 8, 10, 12, 14, 16, 18, 20)\n"
     ]
    }
   ],
   "source": [
    "# Q36. Multiply all elements in a tuple by 2.\n",
    "t1 = (1,2,3,4,5,6,7,8,9,10)\n",
    "print(\"Given tuple: \",t1)\n",
    "t1 = tuple(map(lambda a: a*2,t1))\n",
    "print(\"Tuple after multiplying all elements by 2: \",t1)"
   ]
  },
  {
   "cell_type": "code",
   "execution_count": 59,
   "metadata": {},
   "outputs": [
    {
     "name": "stdout",
     "output_type": "stream",
     "text": [
      "Given tuple:  (22, 46, 12, 35, 28, 5, 24, 22, 52, 32)\n"
     ]
    }
   ],
   "source": [
    "# Q37. Create a tuple of random numbers.\n",
    "import random\n",
    "l = tuple(random.randint(3,52) for i in range(1,11))\n",
    "print(\"Given tuple: \",l)\n"
   ]
  },
  {
   "cell_type": "code",
   "execution_count": 62,
   "metadata": {},
   "outputs": [
    {
     "name": "stdout",
     "output_type": "stream",
     "text": [
      "Given tuple:  (2, 4, 7, 8, 22, 53)\n",
      "Tuple t1 is sorted\n"
     ]
    }
   ],
   "source": [
    "# Q38. Check if a tuple is sorted.\n",
    "t1 = (2,4,7,8,22,53)\n",
    "print(\"Given tuple: \",t1)\n",
    "if t1 == tuple(sorted(t1)):\n",
    "    print(\"Tuple t1 is sorted\")\n",
    "else: \n",
    "    print(\"Tuple t1 is not sorted\")\n",
    "\n"
   ]
  },
  {
   "cell_type": "code",
   "execution_count": 70,
   "metadata": {},
   "outputs": [
    {
     "name": "stdout",
     "output_type": "stream",
     "text": [
      "Given tuple:  (2, 4, 7, 8, 22, 53)\n",
      "Rotating tuple n=3 left:  (8, 22, 53, 2, 4, 7)\n"
     ]
    }
   ],
   "source": [
    "# Q39. Rotate a tuple to the left by `n` positions.\n",
    "t1 = (2,4,7,8,22,53)\n",
    "print(\"Given tuple: \",t1)\n",
    "n = 3\n",
    "t1 = t1[n:] + t1[:n]\n",
    "print(f\"Rotating tuple n={n} left: \",t1)"
   ]
  },
  {
   "cell_type": "code",
   "execution_count": 71,
   "metadata": {},
   "outputs": [
    {
     "name": "stdout",
     "output_type": "stream",
     "text": [
      "Given tuple:  (2, 4, 7, 8, 22, 53)\n",
      "Rotating tuple n=2 left:  (22, 53, 2, 4, 7, 8)\n"
     ]
    }
   ],
   "source": [
    "# Q40. Rotate a tuple to the right by `n` positions.\n",
    "t1 = (2,4,7,8,22,53)\n",
    "print(\"Given tuple: \",t1)\n",
    "n = 2\n",
    "t1 = t1[-n:] + t1[:-n]\n",
    "print(f\"Rotating tuple n={n} left: \",t1)"
   ]
  },
  {
   "cell_type": "code",
   "execution_count": 75,
   "metadata": {},
   "outputs": [
    {
     "name": "stdout",
     "output_type": "stream",
     "text": [
      "List of first 5 Fibonacci numbers:  (0, 1, 1, 2, 3, 5)\n"
     ]
    }
   ],
   "source": [
    "# Q41. Create a tuple of the first 5 Fibonacci numbers.\n",
    "def fib(n):\n",
    "    if n==0:\n",
    "        return 0\n",
    "    elif n==1 or n==2:\n",
    "        return 1\n",
    "    return fib(n-1)+fib(n-2)\n",
    "\n",
    "t1 = tuple(fib(i) for i in range(0,6))\n",
    "print(\"List of first 5 Fibonacci numbers: \",t1)"
   ]
  },
  {
   "cell_type": "code",
   "execution_count": 81,
   "metadata": {},
   "outputs": [
    {
     "name": "stdout",
     "output_type": "stream",
     "text": [
      "Tuple:  ('3', '6', '2', '14', '7', '8', '53')\n"
     ]
    }
   ],
   "source": [
    "# Q42. Create a tuple from user input.\n",
    "user_input = input(\"Enter elements of tuple, seperated by spaces: \")\n",
    "t1 = tuple(user_input.split())\n",
    "print(\"Tuple: \",t1)"
   ]
  },
  {
   "cell_type": "code",
   "execution_count": 84,
   "metadata": {},
   "outputs": [
    {
     "name": "stdout",
     "output_type": "stream",
     "text": [
      "Given tuple:  ('hello', 'python', 'programming', 'Data Analytics', 'Data Science')\n",
      "tuple after:  ('hello', 'python', 'Data Science', 'Data Analytics', 'programming')\n"
     ]
    }
   ],
   "source": [
    "# Q43. Swap two elements in a tuple.\n",
    "t1 = (\"hello\",\"python\",\"programming\",\"Data Analytics\",\"Data Science\")\n",
    "print(\"Given tuple: \",t1)\n",
    "i, j = map(int, input(\"Enter i and j indices: \").split())\n",
    "t1 = list(t1)\n",
    "temp = t1[i]\n",
    "t1[i] = t1[j]\n",
    "t1[j] = temp\n",
    "\n",
    "t1 = tuple(t1)\n",
    "print(\"tuple after: \",t1)"
   ]
  },
  {
   "cell_type": "code",
   "execution_count": 87,
   "metadata": {},
   "outputs": [
    {
     "name": "stdout",
     "output_type": "stream",
     "text": [
      "Given tuple:  (1, 3, 5, 8, 9)\n",
      "Reversed tuple:  (9, 8, 5, 3, 1)\n"
     ]
    }
   ],
   "source": [
    "# Q44. Reverse the elements of a tuple.\n",
    "t1 = (1,3,5,8,9)\n",
    "print(\"Given tuple: \",t1)\n",
    "t1 = t1[::-1]\n",
    "print(\"Reversed tuple: \",t1)"
   ]
  },
  {
   "cell_type": "code",
   "execution_count": 94,
   "metadata": {},
   "outputs": [
    {
     "name": "stdout",
     "output_type": "stream",
     "text": [
      "Tuple:  (1, 2, 4, 8, 16, 32)\n"
     ]
    }
   ],
   "source": [
    "# Q45. Create a tuple of the first `n` powers of 2.\n",
    "n = int(input(\"Enter n for tuple of first n powers of 2: \"))\n",
    "t1 = tuple(2**i for i in range(n))\n",
    "print(\"Tuple: \",t1)"
   ]
  },
  {
   "cell_type": "code",
   "execution_count": 99,
   "metadata": {},
   "outputs": [
    {
     "name": "stdout",
     "output_type": "stream",
     "text": [
      "Given Tuple:  ('hello', 'python', 'programming', 'Data Analytics', 'Data Science')\n",
      "largest string:  ('Data Analytics', 14)\n"
     ]
    }
   ],
   "source": [
    "# Q46. Find the longest string in a tuple of strings.\n",
    "t1 = (\"hello\",\"python\",\"programming\",\"Data Analytics\",\"Data Science\")\n",
    "print(\"Given Tuple: \",t1)\n",
    "st = dict()\n",
    "for i in t1:\n",
    "    st[i]=len(i)\n",
    "\n",
    "new_dict = sorted(st.items(),key=lambda i: i[1])\n",
    "print(\"largest string: \",new_dict[-1])"
   ]
  },
  {
   "cell_type": "code",
   "execution_count": 100,
   "metadata": {},
   "outputs": [
    {
     "name": "stdout",
     "output_type": "stream",
     "text": [
      "Given Tuple:  ('hello', 'python', 'programming', 'Data Analytics', 'Data Science')\n",
      "Shortest string:  ('hello', 5)\n"
     ]
    }
   ],
   "source": [
    "# Q47. Find the shortest string in a tuple of strings.\n",
    "t1 = (\"hello\",\"python\",\"programming\",\"Data Analytics\",\"Data Science\")\n",
    "print(\"Given Tuple: \",t1)\n",
    "st = dict()\n",
    "for i in t1:\n",
    "    st[i]=len(i)\n",
    "\n",
    "new_dict = sorted(st.items(),key=lambda i: i[1])\n",
    "print(\"Shortest string: \",new_dict[0])"
   ]
  },
  {
   "cell_type": "code",
   "execution_count": 103,
   "metadata": {},
   "outputs": [
    {
     "name": "stdout",
     "output_type": "stream",
     "text": [
      "Tuple:  (1, 3, 6, 10, 15, 21, 28)\n"
     ]
    }
   ],
   "source": [
    "# Q48. Create a tuple of the first `n` triangular numbers.\n",
    "n = int(input(\"Enter n for tuple of first n trinangular number: \"))\n",
    "t1 = tuple((i * (i + 1)) // 2 for i in range(1, n+1))\n",
    "print(\"Tuple: \",t1)"
   ]
  },
  {
   "cell_type": "code",
   "execution_count": 105,
   "metadata": {},
   "outputs": [
    {
     "name": "stdout",
     "output_type": "stream",
     "text": [
      "Given tuple:  (1, 2, 5, 6, 8, 9, 10)\n",
      "Subtuple:  (5, 8, 10)\n",
      "Yes, sb1 is subsequence of tuple t1\n"
     ]
    }
   ],
   "source": [
    "# Q49. Check if a tuple contains another tuple as a subsequence.\n",
    "def check_sub(t1,sb1):\n",
    "    it = iter(t1)\n",
    "    return all(elem in it for elem in sb1)\n",
    "\n",
    "t1 = (1,2,5,6,8,9,10)\n",
    "print(\"Given tuple: \",t1)\n",
    "sb1 = (5,8,10)\n",
    "print(\"Subtuple: \",sb1)\n",
    "\n",
    "if check_sub(t1,sb1):\n",
    "    print(\"Yes, sb1 is subsequence of tuple t1\")\n",
    "else:\n",
    "    print(\"No\")"
   ]
  },
  {
   "cell_type": "code",
   "execution_count": 111,
   "metadata": {},
   "outputs": [
    {
     "name": "stdout",
     "output_type": "stream",
     "text": [
      "Tuple of altenate 0s and 1s:  (1, 0, 1, 0, 1, 0, 1)\n"
     ]
    }
   ],
   "source": [
    "# Q50. Create a tuple of alternating 1s and 0s of length `n`.\n",
    "t1 = (1 if i%2==0 else 0 for i in range(0,n))\n",
    "t1 = tuple(t1)\n",
    "print(\"Tuple of altenate 0s and 1s: \",t1)"
   ]
  },
  {
   "cell_type": "markdown",
   "metadata": {},
   "source": [
    "<h2>Set Based Practice Problem :</h2>"
   ]
  },
  {
   "cell_type": "code",
   "execution_count": 115,
   "metadata": {},
   "outputs": [
    {
     "name": "stdout",
     "output_type": "stream",
     "text": [
      "Set with integers from 1 to 5:  {1, 2, 3, 4, 5}\n"
     ]
    }
   ],
   "source": [
    "# Q1. Create a set with integers from 1 to 5.\n",
    "s1 = {i for i in range(1,6)}\n",
    "print(\"Set with integers from 1 to 5: \",s1)\n"
   ]
  },
  {
   "cell_type": "code",
   "execution_count": 118,
   "metadata": {},
   "outputs": [
    {
     "name": "stdout",
     "output_type": "stream",
     "text": [
      "Given set:  {8, 4, 6, 7}\n",
      "set after adding element '3':  {3, 4, 6, 7, 8}\n"
     ]
    }
   ],
   "source": [
    "# Q2. Add an element to a set.\n",
    "s1 = {4,6,7,8}\n",
    "print(\"Given set: \",s1)\n",
    "s1.add(3)\n",
    "print(\"set after adding element '3': \",s1)"
   ]
  },
  {
   "cell_type": "code",
   "execution_count": 119,
   "metadata": {},
   "outputs": [
    {
     "name": "stdout",
     "output_type": "stream",
     "text": [
      "Given Set:  {3, 4, 6, 7, 8}\n",
      "Set after removing element '3':  {4, 6, 7, 8}\n"
     ]
    }
   ],
   "source": [
    "# Q3. Remove an element from a set.\n",
    "print(\"Given Set: \",s1)\n",
    "s1.remove(3)\n",
    "print(\"Set after removing element '3': \",s1)"
   ]
  },
  {
   "cell_type": "code",
   "execution_count": 122,
   "metadata": {},
   "outputs": [
    {
     "name": "stdout",
     "output_type": "stream",
     "text": [
      "Given set s1:  {1, 2, 34, 5, 6, 8, 9, 12, 57}\n",
      "Element '5' present in set s1\n"
     ]
    }
   ],
   "source": [
    "# Q4. Check if an element exists in a set.\n",
    "s1 = {1,2,5,6,8,9,34,12,57}\n",
    "print(\"Given set s1: \",s1)\n",
    "n = int(input(\"Enter number to find in set s1: \"))\n",
    "if n in s1:\n",
    "    print(f\"Element '{n}' present in set s1\")\n",
    "else:\n",
    "    print(f\"Element '{n}' not present in set s1\")"
   ]
  },
  {
   "cell_type": "code",
   "execution_count": 126,
   "metadata": {},
   "outputs": [
    {
     "name": "stdout",
     "output_type": "stream",
     "text": [
      "Given set:  {1, 2, 34, 5, 6, 8, 9, 12, 57}\n",
      "Number of elements in set s1:  9\n"
     ]
    }
   ],
   "source": [
    "# Q5. Find the length of a set without using the `len()` function.\n",
    "s1 = {1,2,5,6,8,9,34,12,57}\n",
    "print(\"Given set: \",s1)\n",
    "count = 0\n",
    "for i in s1:\n",
    "    count+=1\n",
    "\n",
    "print(\"Number of elements in set s1: \",count)"
   ]
  },
  {
   "cell_type": "code",
   "execution_count": 128,
   "metadata": {},
   "outputs": [
    {
     "name": "stdout",
     "output_type": "stream",
     "text": [
      "Given set:  {1, 3, 4, 6, 7, 24, 56}\n",
      "Set s1 after using clear function:  set()\n"
     ]
    }
   ],
   "source": [
    "# Q6. Clear all elements from a set.\n",
    "s1 = {24,56,3,1,4,6,7}\n",
    "print(\"Given set: \",s1)\n",
    "s1.clear()\n",
    "print(\"Set s1 after using clear function: \",s1)"
   ]
  },
  {
   "cell_type": "code",
   "execution_count": 130,
   "metadata": {},
   "outputs": [
    {
     "name": "stdout",
     "output_type": "stream",
     "text": [
      "Set of even numbers from 1 to 10:  {2, 4, 6, 8, 10}\n"
     ]
    }
   ],
   "source": [
    "# Q7. Create a set of even numbers from 1 to 10.\n",
    "s1 = {i for i in range(1,11) if i%2==0}\n",
    "print(\"Set of even numbers from 1 to 10: \",s1)"
   ]
  },
  {
   "cell_type": "code",
   "execution_count": 132,
   "metadata": {},
   "outputs": [
    {
     "name": "stdout",
     "output_type": "stream",
     "text": [
      "Set of odd numbers from 1 to 10:  {1, 3, 5, 7, 9}\n"
     ]
    }
   ],
   "source": [
    "# Q8. Create a set of odd numbers from 1 to 10.\n",
    "s1 = {i for i in range(1,11) if i%2!=0}\n",
    "print(\"Set of odd numbers from 1 to 10: \",s1)"
   ]
  },
  {
   "cell_type": "code",
   "execution_count": 137,
   "metadata": {},
   "outputs": [
    {
     "name": "stdout",
     "output_type": "stream",
     "text": [
      "Set s1:  {2, 3, 4, 5}\n",
      "Set s2:  {8, 4, 5, 6}\n",
      "s1 U s2:  {2, 3, 4, 5, 6, 8}\n"
     ]
    }
   ],
   "source": [
    "# Q9. Find the union of two sets.\n",
    "s1 = {2,3,4,5}\n",
    "print(\"Set s1: \",s1)\n",
    "s2 = {4,5,6,8}\n",
    "print(\"Set s2: \",s2)\n",
    "print(\"s1 U s2: \", s1.union(s2))"
   ]
  },
  {
   "cell_type": "code",
   "execution_count": 139,
   "metadata": {},
   "outputs": [
    {
     "name": "stdout",
     "output_type": "stream",
     "text": [
      "Set s1:  {2, 3, 4, 5}\n",
      "Set s2:  {8, 4, 5, 6}\n",
      "s1 intersection s2:  {4, 5}\n"
     ]
    }
   ],
   "source": [
    "# Q10. Find the intersection of two sets.\n",
    "s1 = {2,3,4,5}\n",
    "print(\"Set s1: \",s1)\n",
    "s2 = {4,5,6,8}\n",
    "print(\"Set s2: \",s2)\n",
    "print(\"s1 intersection s2: \", s1.intersection(s2))"
   ]
  },
  {
   "cell_type": "code",
   "execution_count": 142,
   "metadata": {},
   "outputs": [
    {
     "name": "stdout",
     "output_type": "stream",
     "text": [
      "Set s1:  {2, 3, 4, 5}\n",
      "Set s2:  {8, 4, 5, 6}\n",
      "s1 difference s2:  {2, 3}\n"
     ]
    }
   ],
   "source": [
    "# Q11. Find the difference between two sets.\n",
    "s1 = {2,3,4,5}\n",
    "print(\"Set s1: \",s1)\n",
    "s2 = {4,5,6,8}\n",
    "print(\"Set s2: \",s2)\n",
    "print(\"s1 difference s2: \", s1.difference(s2))"
   ]
  },
  {
   "cell_type": "code",
   "execution_count": 148,
   "metadata": {},
   "outputs": [
    {
     "name": "stdout",
     "output_type": "stream",
     "text": [
      "Set s1:  {2, 3, 4, 5}\n",
      "Set s2:  {4, 5}\n",
      "Yes, s2 is subset of s1\n"
     ]
    }
   ],
   "source": [
    "# Q12. Check if a set is a subset of another set.\n",
    "s1 = {2,3,4,5}\n",
    "print(\"Set s1: \",s1)\n",
    "s2 = {4,5}\n",
    "print(\"Set s2: \",s2)\n",
    "if s1.issubset(s2):\n",
    "    print(\"Yes, s1 is subset of s2\")\n",
    "elif s2.issubset(s1):\n",
    "    print(\"Yes, s2 is subset of s1\")\n",
    "else:\n",
    "    print(\"Neither s1 or s2 is subset of each other\")"
   ]
  },
  {
   "cell_type": "code",
   "execution_count": 152,
   "metadata": {},
   "outputs": [
    {
     "name": "stdout",
     "output_type": "stream",
     "text": [
      "Set s1:  {2, 3, 4, 5}\n",
      "Set s2:  {4, 5}\n",
      "Yes, s1 is superset of s2\n"
     ]
    }
   ],
   "source": [
    "# Q13. Check if a set is a superset of another set.\n",
    "s1 = {2,3,4,5}\n",
    "print(\"Set s1: \",s1)\n",
    "s2 = {4,5}\n",
    "print(\"Set s2: \",s2)\n",
    "if s1.issuperset(s2):\n",
    "    print(\"Yes, s1 is superset of s2\")\n",
    "elif s2.issuperset(s1):\n",
    "    print(\"Yes, s2 is superset of s1\")\n",
    "else:\n",
    "    print(\"Neither s1 or s2 is superset of each other\")"
   ]
  },
  {
   "cell_type": "code",
   "execution_count": 156,
   "metadata": {},
   "outputs": [
    {
     "name": "stdout",
     "output_type": "stream",
     "text": [
      "Given list:  [3, 5, 6, 8, 4, 4, 5, 3, 2]\n",
      "Set s1:  {2, 3, 4, 5, 6, 8}\n"
     ]
    }
   ],
   "source": [
    "# Q14. Create a set from a list.\n",
    "l1 = [3,5,6,8,4,4,5,3,2]\n",
    "print(\"Given list: \",l1)\n",
    "s1 = set(l1)\n",
    "print(\"Set s1: \",s1)"
   ]
  },
  {
   "cell_type": "code",
   "execution_count": 159,
   "metadata": {},
   "outputs": [
    {
     "name": "stdout",
     "output_type": "stream",
     "text": [
      "Given set:  {2, 3, 4, 5, 6, 8}\n",
      "List l1:  [2, 3, 4, 5, 6, 8]\n"
     ]
    }
   ],
   "source": [
    "# Q15. Convert a set to a list.\n",
    "s1 = {2, 3, 4, 5, 6, 8}\n",
    "print(\"Given set: \",s1)\n",
    "l1 = list(s1)\n",
    "print(\"List l1: \",l1)"
   ]
  },
  {
   "cell_type": "code",
   "execution_count": 181,
   "metadata": {},
   "outputs": [
    {
     "name": "stdout",
     "output_type": "stream",
     "text": [
      "Given set:  {1, 2, 3, 5, 7, 8, 9}\n",
      "Set s1 after removing random element:  {1, 2, 5, 7, 8, 9}\n"
     ]
    }
   ],
   "source": [
    "# Q16. Remove a random element from a set.\n",
    "import random\n",
    "s1 = {1,3,2,5,7,8,9}\n",
    "n = random.randint(min(s1),max(s1))\n",
    "print(\"Given set: \",s1)\n",
    "s1.remove(n)\n",
    "print(\"Set s1 after removing random element: \",s1)"
   ]
  },
  {
   "cell_type": "code",
   "execution_count": 184,
   "metadata": {},
   "outputs": [
    {
     "name": "stdout",
     "output_type": "stream",
     "text": [
      "Given set:  {1, 2, 3, 4, 6, 7, 9}\n",
      "Set after pop:  {2, 3, 4, 6, 7, 9}\n"
     ]
    }
   ],
   "source": [
    "# Q17. Pop an element from a set.\n",
    "s1 = {2,4,7,9,3,1,6}\n",
    "print(\"Given set: \",s1)\n",
    "s1.pop()\n",
    "print(\"Set after pop: \",s1)"
   ]
  },
  {
   "cell_type": "code",
   "execution_count": 193,
   "metadata": {},
   "outputs": [
    {
     "name": "stdout",
     "output_type": "stream",
     "text": [
      "set s1:  {1, 2, 4, 5}\n",
      "set s2:  {3, 6, 7}\n",
      "s1 and s2 have no elements in common\n"
     ]
    }
   ],
   "source": [
    "# Q18. Check if two sets have no elements in common.\n",
    "s1 = {1,2,4,5}\n",
    "print(\"set s1: \",s1)\n",
    "s2 = {3,6,7}\n",
    "print(\"set s2: \",s2)\n",
    "\n",
    "if s1.intersection(s2) == set():\n",
    "    print(\"s1 and s2 have no elements in common\")\n",
    "else:\n",
    "    print(\"s1 and s2 have common elements\")"
   ]
  },
  {
   "cell_type": "code",
   "execution_count": 196,
   "metadata": {},
   "outputs": [
    {
     "name": "stdout",
     "output_type": "stream",
     "text": [
      "set s1:  {1, 2, 3, 4, 5}\n",
      "set s2:  {3, 4, 6, 7, 9}\n",
      "Symmetric difference between set s1 and s2:  {1, 2, 5, 6, 7, 9}\n"
     ]
    }
   ],
   "source": [
    "# Q19. Find the symmetric difference between two sets.\n",
    "s1 = {1, 2, 3, 4, 5}\n",
    "print(\"set s1: \",s1)\n",
    "s2 = {6, 7, 3, 9, 4}\n",
    "print(\"set s2: \",s2)\n",
    "print(\"Symmetric difference between set s1 and s2: \",s1.symmetric_difference(s2))"
   ]
  },
  {
   "cell_type": "code",
   "execution_count": 204,
   "metadata": {},
   "outputs": [
    {
     "name": "stdout",
     "output_type": "stream",
     "text": [
      "Set s1:  {2, 3, 5, 7, 8, 9}\n",
      "Set s2:  {1, 10, 4, 6}\n",
      "set s1 after updating it with set s2:  {1, 2, 3, 4, 5, 6, 7, 8, 9, 10}\n"
     ]
    }
   ],
   "source": [
    "# Q20. Update a set with elements from another set.\n",
    "s1 = {3,5,7,8,9,2}\n",
    "print(\"Set s1: \",s1)\n",
    "s2 = {1,4,6,10}\n",
    "print(\"Set s2: \",s2)\n",
    "s1.update(s2)\n",
    "print(\"set s1 after updating it with set s2: \",s1)"
   ]
  },
  {
   "cell_type": "code",
   "execution_count": 208,
   "metadata": {},
   "outputs": [
    {
     "name": "stdout",
     "output_type": "stream",
     "text": [
      "Set of first 5 prime numbers:  {2, 3, 5}\n"
     ]
    }
   ],
   "source": [
    "# Q21. Create a set of the first 5 prime numbers.\n",
    "def check_prime(n):\n",
    "    for i in range(2,n):\n",
    "        if n%i==0:\n",
    "            return False\n",
    "    return True\n",
    "\n",
    "s1 = {i for i in range(2,6) if check_prime(i)}\n",
    "print(\"Set of first 5 prime numbers: \",s1)"
   ]
  },
  {
   "cell_type": "code",
   "execution_count": 210,
   "metadata": {},
   "outputs": [
    {
     "name": "stdout",
     "output_type": "stream",
     "text": [
      "Set s1:  {1, 2, 3, 4}\n",
      "Set s2:  {1, 2, 3, 4}\n",
      "Set s1 and s2 are identical\n"
     ]
    }
   ],
   "source": [
    "# Q22. Check if two sets are identical.\n",
    "s1 = {1,2,3,4}\n",
    "print(\"Set s1: \",s1)\n",
    "s2 = {1,2,3,4}\n",
    "print(\"Set s2: \",s2)\n",
    "if s1==s2:\n",
    "    print(\"Set s1 and s2 are identical\")\n",
    "else:\n",
    "    print(\"Set s1 and s2 are not identical\")\n"
   ]
  },
  {
   "cell_type": "code",
   "execution_count": 215,
   "metadata": {},
   "outputs": [
    {
     "name": "stdout",
     "output_type": "stream",
     "text": [
      "Frozen set s1:  frozenset({'Bus', 'Truck', 'Car'})\n",
      "Type of set s1:  <class 'frozenset'>\n"
     ]
    }
   ],
   "source": [
    "# Q23. Create a frozen set.\n",
    "s1 = frozenset(['Car','Bus','Truck'])\n",
    "print(\"Frozen set s1: \",s1)\n",
    "print(\"Type of set s1: \",type(s1))"
   ]
  },
  {
   "cell_type": "code",
   "execution_count": 218,
   "metadata": {},
   "outputs": [
    {
     "name": "stdout",
     "output_type": "stream",
     "text": [
      "set s1:  {1, 2, 3, 4, 5}\n",
      "set s2:  {8, 6, 7}\n",
      "s1 is disjoint with s2\n"
     ]
    }
   ],
   "source": [
    "# Q24. Check if a set is disjoint with another set.\n",
    "s1 = {1,2,3,4,5}\n",
    "print(\"set s1: \",s1)\n",
    "s2 = {6,7,8}\n",
    "print(\"set s2: \",s2)\n",
    "\n",
    "if s1.intersection(s2) == set():\n",
    "    print(\"s1 is disjoint with s2\")\n",
    "else:\n",
    "    print(\"s1 is not disjoint with s2\")"
   ]
  },
  {
   "cell_type": "code",
   "execution_count": 220,
   "metadata": {},
   "outputs": [
    {
     "name": "stdout",
     "output_type": "stream",
     "text": [
      "set of squares of numbers from 1 to 5:  {1, 4, 9, 16, 25}\n"
     ]
    }
   ],
   "source": [
    "# Q25. Create a set of squares of numbers from 1 to 5.\n",
    "s1 = {i**2 for i in range(1,6)}\n",
    "print(\"set of squares of numbers from 1 to 5: \",s1)"
   ]
  },
  {
   "cell_type": "code",
   "execution_count": 223,
   "metadata": {},
   "outputs": [
    {
     "name": "stdout",
     "output_type": "stream",
     "text": [
      "Given set:  {1, 2, 3, 4, 5, 6, 7, 8, 9, 10}\n",
      "Filtering even number:  {2, 4, 6, 8, 10}\n"
     ]
    }
   ],
   "source": [
    "# Q26. Filter out all even numbers from a set.\n",
    "s1 = {1,2,3,4,5,6,7,8,9,10}\n",
    "print(\"Given set: \",s1)\n",
    "s2 = set(filter(lambda a: a%2==0,s1))\n",
    "print(\"Filtering even number: \",s2)"
   ]
  },
  {
   "cell_type": "code",
   "execution_count": 225,
   "metadata": {},
   "outputs": [
    {
     "name": "stdout",
     "output_type": "stream",
     "text": [
      "Given set:  {1, 2, 3, 4, 5, 6, 7, 8, 9, 10}\n",
      "Multiplying all elements in set by 2:  {2, 4, 6, 8, 10, 12, 14, 16, 18, 20}\n"
     ]
    }
   ],
   "source": [
    "# Q27. Multiply all elements in a set by 2.\n",
    "s1 = {1,2,3,4,5,6,7,8,9,10}\n",
    "print(\"Given set: \",s1)\n",
    "s2 = set(map(lambda a: a*2,s1))\n",
    "print(\"Multiplying all elements in set by 2: \",s2)"
   ]
  },
  {
   "cell_type": "code",
   "execution_count": 227,
   "metadata": {},
   "outputs": [
    {
     "name": "stdout",
     "output_type": "stream",
     "text": [
      "Given set:  {32, 10, 43, 13, 47, 16, 15, 19, 21, 25}\n"
     ]
    }
   ],
   "source": [
    "# Q28. Create a set of random numbers.\n",
    "import random\n",
    "s1 = set(random.randint(3,52) for i in range(1,11))\n",
    "print(\"Given set: \",s1)"
   ]
  },
  {
   "cell_type": "code",
   "execution_count": 230,
   "metadata": {},
   "outputs": [
    {
     "name": "stdout",
     "output_type": "stream",
     "text": [
      "Set s1:  {2, 3, 5, 6, 8}\n",
      "Set s2:  set()\n",
      "Set s1 is not empty\n",
      "Set s2 is empty\n"
     ]
    }
   ],
   "source": [
    "# Q29. Check if a set is empty.\n",
    "s1 = {2,3,5,6,8}\n",
    "print(\"Set s1: \",s1)\n",
    "s2 = set()\n",
    "print(\"Set s2: \",s2)\n",
    "\n",
    "if len(s1) == 0:\n",
    "    print(\"Set s1 is empty\")\n",
    "else:\n",
    "    print(\"Set s1 is not empty\")\n",
    "\n",
    "if len(s2)==0:\n",
    "    print(\"Set s2 is empty\")\n",
    "else:\n",
    "    print(\"Set s2 is not empty\")"
   ]
  },
  {
   "cell_type": "code",
   "execution_count": 235,
   "metadata": {},
   "outputs": [
    {
     "name": "stdout",
     "output_type": "stream",
     "text": [
      "Nested set:  {frozenset({1, 2, 3}), frozenset({4, 5, 6}), frozenset({33, 11, 22})}\n"
     ]
    }
   ],
   "source": [
    "# Q30. Create a nested set (hint: use frozenset).\n",
    "s1 = frozenset([1,2,3])\n",
    "s2 = frozenset([4,5,6])\n",
    "s3 = frozenset([11,22,33])\n",
    "\n",
    "nested_set = {s1,s2,s3}\n",
    "\n",
    "print(\"Nested set: \",nested_set)\n"
   ]
  },
  {
   "cell_type": "code",
   "execution_count": 239,
   "metadata": {},
   "outputs": [
    {
     "name": "stdout",
     "output_type": "stream",
     "text": [
      "Given set:  {1, 3, 6, 8, 10}\n",
      "Set after using discard method:  {1, 3, 8, 10}\n"
     ]
    }
   ],
   "source": [
    "# Q31. Remove an element from a set using the discard method\n",
    "s1 = {1,3,6,8,10}\n",
    "print(\"Given set: \",s1)\n",
    "s1.discard(6)\n",
    "print(\"Set after using discard method: \",s1)"
   ]
  },
  {
   "cell_type": "code",
   "execution_count": 241,
   "metadata": {},
   "outputs": [
    {
     "name": "stdout",
     "output_type": "stream",
     "text": [
      "Set s1:  {9, 6, 15}\n",
      "Set s2:  {24, 17, 13}\n",
      "Comparing elements in s2 are greater than elements in s1:  False\n"
     ]
    }
   ],
   "source": [
    "# Q32. Compare two sets.\n",
    "s1 = {6,9,15}\n",
    "print(\"Set s1: \",s1)\n",
    "s2 = {13,17,24}\n",
    "print(\"Set s2: \",s2)\n",
    "\n",
    "res = all(x < y for x,y in zip(s1,s2))\n",
    "\n",
    "print(\"Comparing elements in s2 are greater than elements in s1: \",res)"
   ]
  },
  {
   "cell_type": "code",
   "execution_count": 244,
   "metadata": {},
   "outputs": [
    {
     "name": "stdout",
     "output_type": "stream",
     "text": [
      "Given String:  Hello world this is python\n",
      "Set s1:  {'Hello', 'python', 'is', 'world', 'this'}\n"
     ]
    }
   ],
   "source": [
    "# Q33. Create a set from a string.\n",
    "st1 = \"Hello world this is python\"\n",
    "print(\"Given String: \",st1)\n",
    "s1 = set(st1.split())\n",
    "print(\"Set s1: \",s1)"
   ]
  },
  {
   "cell_type": "code",
   "execution_count": 248,
   "metadata": {},
   "outputs": [
    {
     "name": "stdout",
     "output_type": "stream",
     "text": [
      "Given set:  {'world', 'this', 'python', 'Hello', 'is'}\n",
      "Given string:  world this python Hello is\n"
     ]
    }
   ],
   "source": [
    "# Q34. Convert a set of strings to a set of integers.\n",
    "s1 = {'Hello', 'python', 'is', 'world', 'this'}\n",
    "print(\"Given set: \",s1)\n",
    "st1 = \" \".join(s1)\n",
    "print(\"Given string: \",st1)"
   ]
  },
  {
   "cell_type": "code",
   "execution_count": 251,
   "metadata": {},
   "outputs": [
    {
     "name": "stdout",
     "output_type": "stream",
     "text": [
      "Given set:  {1, 2, 3, 4, 5}\n",
      "Set s1:  {'2', '3', '5', '1', '4'}\n"
     ]
    }
   ],
   "source": [
    "# Q35. Convert a set of integers to a set of strings.\n",
    "s1 = {1,2,3,4,5}\n",
    "print(\"Given set: \",s1)\n",
    "s1 = set(map(lambda a: str(a),s1))\n",
    "print(\"Set s1: \",s1)"
   ]
  },
  {
   "cell_type": "code",
   "execution_count": 255,
   "metadata": {},
   "outputs": [
    {
     "name": "stdout",
     "output_type": "stream",
     "text": [
      "Given tuple:  (1, 2, 3, 4, 5)\n",
      "Given set:  {1, 2, 3, 4, 5}\n"
     ]
    }
   ],
   "source": [
    "# Q36. Create a set from a tuple.\n",
    "t1 = (1,2,3,4,5)\n",
    "print(\"Given tuple: \",t1)\n",
    "s1 = set(t1)\n",
    "print(\"Given set: \",s1)"
   ]
  },
  {
   "cell_type": "code",
   "execution_count": 256,
   "metadata": {},
   "outputs": [
    {
     "name": "stdout",
     "output_type": "stream",
     "text": [
      "Given set:  {1, 2, 3, 4, 5}\n",
      "Given tuple:  (1, 2, 3, 4, 5)\n"
     ]
    }
   ],
   "source": [
    "# Q37. Convert a set to a tuple.\n",
    "s1 = {1,2,3,4,5}\n",
    "print(\"Given set: \",s1)\n",
    "t1 = tuple(s1)\n",
    "print(\"Given tuple: \",t1)"
   ]
  },
  {
   "cell_type": "code",
   "execution_count": 259,
   "metadata": {},
   "outputs": [
    {
     "name": "stdout",
     "output_type": "stream",
     "text": [
      "Given set:  {2, 3, 4, 5, 7, 8, 13, 78, 15, 31}\n",
      "Maximum value in set:  78\n"
     ]
    }
   ],
   "source": [
    "# Q38. Find the maximum value in a set.\n",
    "s1 = {3,5,7,8,2,13,31,4,15,78}\n",
    "print(\"Given set: \",s1)\n",
    "print(\"Maximum value in set: \",max(s1))"
   ]
  },
  {
   "cell_type": "code",
   "execution_count": 261,
   "metadata": {},
   "outputs": [
    {
     "name": "stdout",
     "output_type": "stream",
     "text": [
      "Given set:  {2, 3, 4, 5, 7, 8, 13, 78, 15, 31}\n",
      "Minimum value in set:  2\n"
     ]
    }
   ],
   "source": [
    "# Q39. Find the minimum value in a set.\n",
    "s1 = {3,5,7,8,2,13,31,4,15,78}\n",
    "print(\"Given set: \",s1)\n",
    "print(\"Minimum value in set: \",min(s1))"
   ]
  },
  {
   "cell_type": "code",
   "execution_count": 265,
   "metadata": {},
   "outputs": [
    {
     "name": "stdout",
     "output_type": "stream",
     "text": [
      "Set:  {'21', '6', '79', '1', '4'}\n"
     ]
    }
   ],
   "source": [
    "# Q40. Create a set from user input.\n",
    "user_input = input(\"Enter element of set, by leaving space between them: \")\n",
    "s1 = set(user_input.split())\n",
    "print(\"Set: \",s1)"
   ]
  },
  {
   "cell_type": "code",
   "execution_count": 267,
   "metadata": {},
   "outputs": [
    {
     "name": "stdout",
     "output_type": "stream",
     "text": [
      "Set s1:  {1, 2, 5, 7}\n",
      "set s2:  {8, 9, 3, 5}\n",
      "Intersection of set s1 and s2 is not empty and value is:  {5}\n"
     ]
    }
   ],
   "source": [
    "# Q41. Check if the intersection of two sets is empty.\n",
    "s1 = {1,2,5,7}\n",
    "print(\"Set s1: \",s1)\n",
    "s2 = {3,5,8,9}\n",
    "print(\"set s2: \",s2)\n",
    "\n",
    "if s1.intersection(s2) == set():\n",
    "    print(\"Intersection of set s1 and s2 is empty\")\n",
    "else:\n",
    "    print(\"Intersection of set s1 and s2 is not empty and value is: \",s1.intersection(s2))"
   ]
  },
  {
   "cell_type": "code",
   "execution_count": 8,
   "metadata": {},
   "outputs": [
    {
     "name": "stdout",
     "output_type": "stream",
     "text": [
      "Set of first 5 fibonnaci numbers:  {0, 1, 2, 3, 5}\n"
     ]
    }
   ],
   "source": [
    "# Q42. Create a set of the first 5 Fibonacci numbers.\n",
    "def fib_num(n):\n",
    "    if n==0:\n",
    "        return 0\n",
    "    if n==1 or n==2:\n",
    "        return 1\n",
    "    return fib_num(n-1)+fib_num(n-2)\n",
    "\n",
    "s1 = {fib_num(i) for i in range(0,6)}\n",
    "print(\"Set of first 5 fibonnaci numbers: \",s1)    "
   ]
  },
  {
   "cell_type": "code",
   "execution_count": 9,
   "metadata": {},
   "outputs": [
    {
     "name": "stdout",
     "output_type": "stream",
     "text": [
      "List:  [1, 1, 2, 2, 3, 4, 5, 6, 7, 8, 8]\n",
      "List after removing duplicates:  [1, 2, 3, 4, 5, 6, 7, 8]\n"
     ]
    }
   ],
   "source": [
    "# Q43. Remove duplicates from a list using sets.\n",
    "l1 = [1,1,2,2,3,4,5,6,7,8,8]\n",
    "print(\"List: \",l1)\n",
    "l1 = list(set(l1))\n",
    "print(\"List after removing duplicates: \",l1)"
   ]
  },
  {
   "cell_type": "code",
   "execution_count": 11,
   "metadata": {},
   "outputs": [
    {
     "name": "stdout",
     "output_type": "stream",
     "text": [
      "List l1:  [1, 1, 2, 2, 3, 3, 4]\n",
      "List l2:  [1, 2, 3, 4]\n",
      "Yes both list have same elements\n"
     ]
    }
   ],
   "source": [
    "# Q44. Check if two sets have the same elements, regardless of their count.\n",
    "def check_same_elements(l1,l2):\n",
    "    return set(l1) == set(l2)\n",
    "\n",
    "l1 = [1,1,2,2,3,3,4]\n",
    "print(\"List l1: \",l1)\n",
    "l2 = [1,2,3,4]\n",
    "print(\"List l2: \",l2)\n",
    "\n",
    "if check_same_elements(l1,l2):\n",
    "    print(\"Yes both list have same elements\")\n",
    "else:\n",
    "    print(\"No both list not have same elements\")\n"
   ]
  },
  {
   "cell_type": "code",
   "execution_count": 15,
   "metadata": {},
   "outputs": [
    {
     "name": "stdout",
     "output_type": "stream",
     "text": [
      "Set:  {32, 1, 2, 64, 4, 8, 16}\n"
     ]
    }
   ],
   "source": [
    "# Q45. Create a set of the first `n` powers of 2.\n",
    "n = int(input(\"Enter n for set of first n powers of 2: \"))\n",
    "s1 = set(2**i for i in range(n))\n",
    "print(\"Set: \",s1)"
   ]
  },
  {
   "cell_type": "code",
   "execution_count": 16,
   "metadata": {},
   "outputs": [
    {
     "name": "stdout",
     "output_type": "stream",
     "text": [
      "Set:  {3, 6, 9, 12, 15}\n",
      "List:  [2, 4, 6, 8]\n",
      "Common element in given set and list:  {6}\n"
     ]
    }
   ],
   "source": [
    "# Q46. Find the common elements between a set and a list.\n",
    "s1 = {3,6,9,12,15}\n",
    "print(\"Set: \",s1)\n",
    "l1 = [2,4,6,8]\n",
    "print(\"List: \",l1)\n",
    "\n",
    "print(\"Common element in given set and list: \",s1.intersection(set(l1)))"
   ]
  },
  {
   "cell_type": "code",
   "execution_count": 17,
   "metadata": {},
   "outputs": [
    {
     "name": "stdout",
     "output_type": "stream",
     "text": [
      "Set:  {1, 3, 6, 10, 15, 21, 28}\n"
     ]
    }
   ],
   "source": [
    "# Q47. Create a set of the first `n` triangular numbers\n",
    "n = int(input(\"Enter n for set of first n trinangular number: \"))\n",
    "s1 = set((i * (i + 1)) // 2 for i in range(1, n+1))\n",
    "print(\"Set: \",s1)"
   ]
  },
  {
   "cell_type": "code",
   "execution_count": 21,
   "metadata": {},
   "outputs": [
    {
     "name": "stdout",
     "output_type": "stream",
     "text": [
      "Given set:  {1, 2, 5, 6, 8, 9, 10}\n",
      "Subset:  {8, 10, 5}\n",
      "Yes, s2 is subset of set s1\n"
     ]
    }
   ],
   "source": [
    "# Q48. Check if a set contains another set as a subset.\n",
    "s1 = {1,2,5,6,8,9,10}\n",
    "print(\"Given set: \",s1)\n",
    "s2 = {5,8,10}\n",
    "print(\"Subset: \",sb1)\n",
    "\n",
    "if s1.issubset(s2):\n",
    "    print(\"Yes, s1 is subset of set s2\")\n",
    "elif s2.issubset(s1):\n",
    "    print(\"Yes, s2 is subset of set s1\")\n",
    "else:\n",
    "    print(\"No, set s1 and s2 are not subset\")"
   ]
  },
  {
   "cell_type": "code",
   "execution_count": 23,
   "metadata": {},
   "outputs": [
    {
     "name": "stdout",
     "output_type": "stream",
     "text": [
      "Set of alternate 0s and 1s:  {0, 1}\n"
     ]
    }
   ],
   "source": [
    "# Q49. Create a set of alternating 1s and 0s of length `n`.\n",
    "n = int(input(\"Enter n for alternate 0s and 1s: \"))\n",
    "s1 = {1 if i%2==0 else 0 for i in range(0,n)}\n",
    "print(\"Set of alternate 0s and 1s: \",s1)"
   ]
  },
  {
   "cell_type": "code",
   "execution_count": 25,
   "metadata": {},
   "outputs": [
    {
     "name": "stdout",
     "output_type": "stream",
     "text": [
      "Merged set using union method: {1, 2, 3, 4, 5, 6, 7}\n"
     ]
    }
   ],
   "source": [
    "# Q50. Merge multiple sets into one.\n",
    "s1 = {1, 2, 3}\n",
    "s2 = {3, 4, 5}\n",
    "s3 = {5, 6, 7}\n",
    "\n",
    "merged_s = s1.union(s2, s3)\n",
    "print(\"Merged set using union method:\", merged_s)"
   ]
  }
 ],
 "metadata": {
  "kernelspec": {
   "display_name": "Python 3",
   "language": "python",
   "name": "python3"
  },
  "language_info": {
   "codemirror_mode": {
    "name": "ipython",
    "version": 3
   },
   "file_extension": ".py",
   "mimetype": "text/x-python",
   "name": "python",
   "nbconvert_exporter": "python",
   "pygments_lexer": "ipython3",
   "version": "3.10.4"
  }
 },
 "nbformat": 4,
 "nbformat_minor": 2
}
